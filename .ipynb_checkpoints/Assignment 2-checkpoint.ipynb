{
 "cells": [
  {
   "cell_type": "markdown",
   "metadata": {},
   "source": [
    "# Assignment 2"
   ]
  },
  {
   "cell_type": "code",
   "execution_count": 1,
   "metadata": {},
   "outputs": [],
   "source": [
    "import numpy as np\n",
    "import scipy as sp\n",
    "import matplotlib as mp\n",
    "import matplotlib.pyplot as plt\n",
    "\n",
    "from scipy.integrate import quad, dblquad\n",
    "from textwrap import wrap\n",
    "\n",
    "%matplotlib inline\n",
    "%config InlineBackend.figure_format = 'pdf'"
   ]
  },
  {
   "cell_type": "markdown",
   "metadata": {},
   "source": [
    "## Question 5"
   ]
  },
  {
   "cell_type": "markdown",
   "metadata": {},
   "source": [
    "### (a)\n",
    "\n",
    "We have a loop of radius $10$cm lying in the xy-plane with current of $I$ flowing.\n",
    "\n",
    "To calculate the magnetic field produced by this loop we use the Biot-Savart Law:\n",
    "\n",
    "$$\\vec{B}(\\vec{r}) = \\frac{\\mu_0 I}{4 \\pi} \\int \\frac{\\text{d}l \\times \\hat{r'}}{r'^2}$$\n",
    "\n",
    "$$\\text{where} \\left\\{ \\begin{array}{ll}\n",
    "            \\vec{r}  & \\text{is the position vector of the point of evaluation} \\\\\n",
    "            \\vec{r'} & \\text{is the displacement vector from a point in the current loop to the point of evaluation} \\\\\n",
    "            l        & \\text{is the length of the current loop} \\\\\n",
    "            \\end{array} \\right.$$      \n",
    "            "
   ]
  },
  {
   "cell_type": "markdown",
   "metadata": {},
   "source": [
    "**Let:**\n",
    "\n",
    ">Radius of the current loop: $R$\n",
    "\n",
    ">Positions of elements on the loop: $\\vec{R}$\n",
    "\n",
    ">Angle from the center of the current loop to an element: $\\theta$ \n",
    "\n",
    ">Line segment of the current loop: $l$\n",
    "\n",
    ">Locations in space: $\\vec{r} = (x, y, z)$"
   ]
  },
  {
   "cell_type": "markdown",
   "metadata": {},
   "source": [
    "**Then:**\n",
    "$$\\vec{R} = [R\\cos(\\theta),\\ y-R\\sin(\\theta), \\ z]$$\n",
    "\n",
    "$$\\text{d}l = R \\ \\text{d} \\theta \\ \\hat{\\theta} = [-R \\sin(\\theta), \\ R \\cos(\\theta), \\ 0] \\ \\text{d}\\theta$$\n",
    "\n",
    "$$\\vec{r'} = \\vec{r} - \\vec{R} = [x-R\\cos(\\theta), \\ y-R\\sin(\\theta), \\ z]$$\n",
    "\n",
    "**Taking the cross product:**\n",
    "\\begin{align}\n",
    "\\text{d}l \\times \\vec{r'} &= zR\\cos(\\theta) \\ \\hat{x} + zR\\sin(\\theta) \\ \\hat{y} + [-R\\sin(\\theta)(y-R\\sin(\\theta)) - R\\cos(\\theta)(x-R\\cos(\\theta))] \\ \\hat{z} \\ \\text{d}\\theta\\\\\n",
    "&= zR\\cos(\\theta) \\ \\hat{x} + zR\\sin(\\theta) \\ \\hat{y} + [-yR\\sin(\\theta)-xR\\cos(\\theta) + R^2] \\hat{z} \\ \\text{d}\\theta \n",
    "\\end{align}\n",
    "\n",
    "**The term inside the intergral:**\n",
    "\\begin{align}\n",
    "\\frac{\\text{d}l \\times \\vec{r'}}{r'^2} &= \\frac{zR\\cos(\\theta) \\ \\hat{x} + zR\\sin(\\theta) \\ \\hat{y} + [-yR\\sin(\\theta)-xR\\cos(\\theta) + R^2] \\hat{z}}{\\left\\{[x-R\\cos(\\theta)]^2 + [y-R\\sin(\\theta)]^2 + z^2 \\right\\}^\\frac{3}{2}}\n",
    "\\end{align}\n",
    "\n",
    "**The magnetic field:**\n",
    "$$\\vec{B}(\\vec{r}) = \\frac{\\mu_0 I}{4 \\pi} \\int \\text{d}\\theta \\ \\frac{zR\\cos(\\theta) \\ \\hat{x} + zR\\sin(\\theta) \\ \\hat{y} + [-yR\\sin(\\theta)-xR\\cos(\\theta) + R^2] \\hat{z}}{\\left\\{[x-R\\cos(\\theta)]^2 + [y-R\\sin(\\theta)]^2 + z^2 \\right\\}^\\frac{3}{2} }$$\n",
    "\n",
    "**Make it dimensionless:**\n",
    "$$\\vec{B}(\\vec{r}) \\frac{4 \\pi}{\\mu_0 I}  = \\int \\text{d}\\theta \\ \\frac{\\frac{z}{R}\\cos(\\theta) \\ \\hat{x} + \\frac{z}{R}\\sin(\\theta) \\ \\hat{y} - \\left[\\frac{y}{R}\\sin(\\theta) + \\frac{x}{R}\\cos(\\theta) - 1\\right] \\hat{z}}{\\left\\{ \\left[\\frac{x}{R}-\\cos(\\theta)\\right]^2 + \\left[\\frac{y}{R}-\\sin(\\theta)\\right]^2 + \\left(\\frac{z}{R}\\right)^2 \\right\\}^\\frac{3}{2} }$$"
   ]
  },
  {
   "cell_type": "markdown",
   "metadata": {},
   "source": [
    "**Turn the magnetic field into code:**"
   ]
  },
  {
   "cell_type": "code",
   "execution_count": 2,
   "metadata": {},
   "outputs": [],
   "source": [
    "# Magnetic fields in x\n",
    "def integrand_x(x, y, z, theta, R=1):\n",
    "    r = ((x/R - np.cos(theta))**2 + (y/R - np.sin(theta))**2 + (z/R)**2)**.5\n",
    "    Bx = (z/R)*np.cos(theta) / r**3\n",
    "    return Bx\n",
    "\n",
    "@np.vectorize\n",
    "def Bx(x, y, z, R=1):\n",
    "    B_x = quad(lambda theta: integrand_x(x, y, z, theta, R), 0, 2*np.pi)\n",
    "    return B_x[0]\n",
    "\n",
    "# Magnetic fields in y\n",
    "def integrand_y(x, y, z, theta, R=1):\n",
    "    r = ((x/R - np.cos(theta))**2 + (y/R - np.sin(theta))**2 + (z/R)**2)**.5\n",
    "    By = (z/R)*np.sin(theta) / r**3\n",
    "    return By\n",
    "\n",
    "@np.vectorize\n",
    "def By(x, y, z, R=1):\n",
    "    B_y = quad(lambda theta: integrand_y(x, y, z, theta, R), 0, 2*np.pi)\n",
    "    return B_y[0]\n",
    "\n",
    "# Magnetic fields in z\n",
    "def integrand_z(x, y, z, theta, R=1):\n",
    "    r = ((x/R - np.cos(theta))**2 + (y/R - np.sin(theta))**2 + (z/R)**2)**.5\n",
    "    Bz = -( (y/R)*np.sin(theta) + (x/R)*np.cos(theta) - 1) / r**3\n",
    "    return Bz\n",
    "\n",
    "@np.vectorize\n",
    "def Bz(x, y, z, R=1):\n",
    "    B_z = quad(lambda theta: integrand_z(x, y, z, theta, R), 0, 2*np.pi)\n",
    "    return B_z[0]"
   ]
  },
  {
   "cell_type": "code",
   "execution_count": 3,
   "metadata": {},
   "outputs": [],
   "source": [
    "# Create a meshgrid for the space of integration\n",
    "# ==============================================\n",
    "\n",
    "# Dimesions and resolution for the meshgrid \n",
    "r_max = 2\n",
    "r_min = -2\n",
    "res = 200\n",
    "\n",
    "x = np.linspace(r_min, r_max, res)\n",
    "y = np.linspace(r_min, r_max, res)\n",
    "z = np.linspace(r_min, r_max, res)\n",
    "\n",
    "GX, GZ = np.meshgrid(x, z)\n",
    "GY = y"
   ]
  },
  {
   "cell_type": "code",
   "execution_count": null,
   "metadata": {},
   "outputs": [],
   "source": [
    "%%time\n",
    "\n",
    "# Find the magnetic fields\n",
    "# ========================\n",
    "\n",
    "B_x = Bx(GX, GY, GZ, 1)\n",
    "B_y = By(GX, GY, GZ, 1)\n",
    "B_z = Bz(GX, GY, GZ, 1)"
   ]
  },
  {
   "cell_type": "code",
   "execution_count": null,
   "metadata": {},
   "outputs": [],
   "source": [
    "# Plot it out\n",
    "# ===========\n",
    "\n",
    "fig, ax = plt.subplots(figsize=(7, 5))\n",
    "\n",
    "norm = (B_x**2 + B_y**2 + B_z**2)**0.5\n",
    "\n",
    "Graph = ax.pcolormesh(x, y, norm, cmap='inferno_r', vmax=25)\n",
    "ax.streamplot(x, z, B_x, B_z, linewidth=0.75,\n",
    "             density=1.5, arrowstyle='->', arrowsize=1)\n",
    "\n",
    "# ax.quiver(x, z, B_x/norm, B_z/norm, linewidth=0.75, pivot='mid')\n",
    "# Graph = ax.imshow(E[2], extent=(-2, 2, -2, 2), vmax=100, cmap='inferno_r')\n",
    "\n",
    "ax.set_xlim(-2, 2)\n",
    "ax.set_ylim(-2, 2)\n",
    "ax.set_xlabel(r'Distance ($\\hat{x}$) [dm]', fontsize=12)\n",
    "ax.set_ylabel(r'Distance ($\\hat{z}$) [dm]', fontsize=12)\n",
    "ax.set_title('Magnetic field of a current loop in the xz-plane', fontsize=14)\n",
    "\n",
    "cbar = fig.colorbar(Graph, shrink=1, aspect=20)\n",
    "cbar.ax.set_ylabel(r'$\\left| \\vec{B} \\right|$ $\\left[\\frac{4 \\pi}{\\mu_0 I}\\right]$', \n",
    "                  rotation=0, fontsize=16, labelpad=40)\n",
    "\n",
    "caption = r\"Magnetic field of a current loop located in the xy-plane traveling counterclockwise. The heat map of field magnitude has a max cutoff value at $25 \\frac{4 \\pi}{\\mu_0 I}$ for display purposes, but higher values exist. \"\n",
    "fig.text(0.05, -0.15, \"\\n\".join(wrap(caption, 75)), ha='left', fontsize=12, wrap=False)\n",
    "\n",
    "plt.show()"
   ]
  },
  {
   "cell_type": "markdown",
   "metadata": {},
   "source": [
    "\\newpage \n",
    "\n",
    "### (b)\n",
    "Please see attached hand written page for diagram\n",
    "\n",
    "Here we have a small rotating loop of radius $5$cm located $12$cm away from the original loop on the $\\hat{z}$ axis. \n",
    "\n",
    "**Let:**\n",
    "\n",
    "> Radius of the small loop: $s$\n",
    "\n",
    "> Position of elements in the small loop: $\\vec{S}$\n",
    "\n",
    "> Distance of the small loop from the original loop: $z_0 \\ \\hat{z}$\n",
    "\n",
    "> Rate at which the small loop is rotating: $\\omega t \\ \\hat{x}$\n",
    "\n",
    "> Radial unit vector in the small loop: $\\hat{s}$\n",
    "\n",
    "> Azimuthal angle between the $x$-axis and $\\hat{s}$: $\\phi$\n",
    "\n",
    "> Normal vector to the surface enclosed by the small current loop: $\\hat{n}$\n",
    "\n",
    "> Polar angle between $\\hat{n}$ and the $z$-axis: $\\varphi$\n",
    "\n",
    "> Displacement vector from an element in the original loop to an element in the small loop: $\\vec{r''}$\n",
    "\n",
    "From inspecting the diagram, we can see that: \n",
    "\n",
    "> $\\hat{s} = \\cos{\\phi}\\hat{x} + \\sin{\\phi}\\sin{\\varphi} \\hat{y} + \\sin{\\phi}\\cos{\\varphi} \\hat{z}$\n",
    "\n",
    "> $\\hat{n} = \\sin{\\varphi}\\hat{y} + \\cos{\\varphi}\\hat{z}$\n",
    "\n",
    "> $\\vec{S} = S\\cos{\\phi}\\hat{x} + S\\sin{\\phi}\\sin{\\varphi} \\hat{y} + [S\\sin{\\phi}\\cos{\\varphi} + z_0] \\hat{z}$\n",
    "\n",
    "> $\\vec{r''} = \\vec{S} - \\vec{R} = [S\\cos{\\phi} - R\\cos{\\theta}, \\ S\\sin{\\phi}\\sin{\\varphi} - R\\sin{\\theta},\\ S\\sin{\\phi}\\cos{\\varphi} + z_0]$\n",
    "\n",
    "Since the loop is rotating along the $\\hat{x}$, we can conclude:\n",
    "\n",
    "> $\\varphi = \\omega t$"
   ]
  },
  {
   "cell_type": "markdown",
   "metadata": {},
   "source": [
    "**Current induced in the loop:**\n",
    "\n",
    "\\begin{align}\n",
    "I &= \\int_0^{2\\pi} \\int_0^s \\vec{B} \\cdot \\text{d} \\vec{a} \\\\\n",
    "  &= \\int_0^{2\\pi} \\int_0^s \\vec{B} \\cdot \\hat{n} \\ s \\ \\text{d}s \\ \\text{d} \\phi\n",
    "\\end{align}"
   ]
  },
  {
   "cell_type": "markdown",
   "metadata": {},
   "source": [
    "Code the current:"
   ]
  },
  {
   "cell_type": "code",
   "execution_count": null,
   "metadata": {},
   "outputs": [],
   "source": [
    "@np.vectorize\n",
    "def B_norm(S, phi, Vphi, z_0=1.2):\n",
    "#     B_x = Bx(S*np.cos(phi), S*np.sin(phi)*np.cos(Vphi), S*np.sin(phi)*np.cos(Vphi)+z_0)\n",
    "    x = S*np.cos(phi)\n",
    "    y = S*np.sin(phi)*np.sin(Vphi)\n",
    "    z = S*np.sin(phi)*np.cos(Vphi) + z_0\n",
    "    \n",
    "    B = np.array([0, By(x, y, z), Bz(x, y, z)])\n",
    "    n = np.array([0, np.sin(Vphi), np.cos(Vphi)])\n",
    "    \n",
    "    Bn = np.dot(B, n)\n",
    "    return Bn\n",
    "\n",
    "@np.vectorize\n",
    "def current(R=1, s=0.5, z_0=1.2, Vphi=0.1*np.pi):\n",
    "    I = dblquad(lambda S, phi: B_norm(S, phi, Vphi)*S, 0, s, lambda phi: 0, lambda phi: 2*np.pi)\n",
    "    return I"
   ]
  },
  {
   "cell_type": "code",
   "execution_count": null,
   "metadata": {},
   "outputs": [],
   "source": [
    "%%time\n",
    "\n",
    "VPhi = np.linspace(0, 2*np.pi, 100) \n",
    "I = current(Vphi = VPhi)"
   ]
  },
  {
   "cell_type": "code",
   "execution_count": null,
   "metadata": {},
   "outputs": [],
   "source": [
    "fig2, ax2 = plt.subplots(1, 1, figsize=(8,6))\n",
    "\n",
    "ax2.plot(Phi/(2*np.pi), I, label='Induced current', zorder=2)\n",
    "ax2.plot(Phi/(2*np.pi), np.max(I)*np.cos(Phi), label='Cosine wave', linestyle='--', zorder=1)\n",
    "ax2.grid()\n",
    "\n",
    "ax2.set_xlabel(r'Time [s]', fontsize=14)\n",
    "ax2.set_ylabel(r'Induced current $(I_{ind})$ $\\left[\\frac{4 \\pi}{\\mu_0 I s^2}\\right]$', fontsize=14)\n",
    "title2 = r'Induced current in the small loop above the current loop rotating at $2 \\pi$ rad/s'\n",
    "ax2.set_title(\"\\n\".join(wrap(title2, 60)), fontsize=16)\n",
    "\n",
    "plt.show()"
   ]
  },
  {
   "cell_type": "code",
   "execution_count": null,
   "metadata": {},
   "outputs": [],
   "source": []
  }
 ],
 "metadata": {
  "kernelspec": {
   "display_name": "Python 3",
   "language": "python",
   "name": "python3"
  },
  "language_info": {
   "codemirror_mode": {
    "name": "ipython",
    "version": 3
   },
   "file_extension": ".py",
   "mimetype": "text/x-python",
   "name": "python",
   "nbconvert_exporter": "python",
   "pygments_lexer": "ipython3",
   "version": "3.7.1"
  }
 },
 "nbformat": 4,
 "nbformat_minor": 2
}
