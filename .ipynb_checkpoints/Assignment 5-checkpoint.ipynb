{
 "cells": [
  {
   "cell_type": "markdown",
   "metadata": {},
   "source": [
    "# Assignment 5"
   ]
  },
  {
   "cell_type": "code",
   "execution_count": 1,
   "metadata": {},
   "outputs": [],
   "source": [
    "import numpy as np\n",
    "import sympy as sym\n",
    "import matplotlib as mp\n",
    "import matplotlib.pyplot as plt\n",
    "import animatplot as amp\n",
    "\n",
    "from numpy import exp\n",
    "from textwrap import wrap\n",
    "\n",
    "from sympy import Derivative, integrate, symbols, simplify, fraction, Rational, I, sin, cos, pi, oo\n",
    "from sympy.physics.mechanics import *\n",
    "from IPython.display import Math, display\n",
    "\n",
    "init_vprinting()"
   ]
  },
  {
   "cell_type": "markdown",
   "metadata": {},
   "source": [
    "## 5) Force between two charges"
   ]
  },
  {
   "cell_type": "code",
   "execution_count": 2,
   "metadata": {},
   "outputs": [],
   "source": [
    "q, s, v, t, a, b = sym.symbols('q s v t a b')\n",
    "alp1, alp2 = sym.symbols('alpha_1 alpha_2')\n",
    "eps0, mu0, bet, the1, the2, the = sym.symbols('epsilon_0 mu_0 beta theta_1 theta_2 theta')"
   ]
  },
  {
   "cell_type": "markdown",
   "metadata": {},
   "source": [
    "### Code the symbolic electric and magnetic fields"
   ]
  },
  {
   "cell_type": "code",
   "execution_count": 3,
   "metadata": {},
   "outputs": [],
   "source": [
    "k1 = q/(4*pi*eps0)\n",
    "k2 = q*mu0 / (4*pi)\n",
    "c1 = (1-bet**2) * (1-(bet*sin(the1))**2) **(sym.Rational(-3, 2))\n",
    "c2 = (1-bet**2 )* (1-(bet*sin(the2))**2) **(sym.Rational(-3, 2))\n",
    "dem1 = s**2 + (v*t + alp1)**2\n",
    "dem2 = s**2 + (-v*t + alp2)**2"
   ]
  },
  {
   "cell_type": "code",
   "execution_count": null,
   "metadata": {},
   "outputs": [],
   "source": [
    "E1x = k1*c1*(s*cos(the) / dem1)\n",
    "E1y = k1*c1*(s*sin(the) / dem1)\n",
    "E1z = k1*c1*(v*t + alp1) / dem1\n",
    "\n",
    "E2x = k1*c2*(s*cos(the) / dem2)\n",
    "E2y = k1*c2*(s*sin(the) / dem2)\n",
    "E2z = k1*c2*(-v*t + alp2) / dem2"
   ]
  },
  {
   "cell_type": "code",
   "execution_count": null,
   "metadata": {},
   "outputs": [],
   "source": [
    "B1x = k2*c1*(-s*v*sin(the) / dem1)\n",
    "B1y = k2*c1*(s*v*cos(the) / dem1)\n",
    "B1z = 0\n",
    "\n",
    "B2x = k2*c2*(s*v*sin(the) / dem2)\n",
    "B2y = k2*c2*(-s*v*cos(the) / dem2)\n",
    "B2z = 0"
   ]
  },
  {
   "cell_type": "code",
   "execution_count": null,
   "metadata": {},
   "outputs": [],
   "source": [
    "Ex = (E1x + E2x).simplify()\n",
    "Ey = (E1y + E2y).simplify()\n",
    "Ez = (E1z + E2z).simplify()\n",
    "\n",
    "Bx = (B1x + B2x).simplify()\n",
    "By = (B1y + B2y).simplify()\n",
    "Bz = B1z + B2z"
   ]
  },
  {
   "cell_type": "code",
   "execution_count": null,
   "metadata": {},
   "outputs": [
    {
     "data": {
      "text/latex": [
       "$\\displaystyle E_x = - \\frac{q s \\left(\\beta^{2} - 1\\right) \\left(\\left(s^{2} + \\left(\\alpha_{1} + t v\\right)^{2}\\right) \\left(- \\beta^{2} \\sin^{2}{\\left (\\theta_{1} \\right )} + 1\\right)^{\\frac{3}{2}} + \\left(s^{2} + \\left(\\alpha_{2} - t v\\right)^{2}\\right) \\left(- \\beta^{2} \\sin^{2}{\\left (\\theta_{2} \\right )} + 1\\right)^{\\frac{3}{2}}\\right) \\cos{\\left (\\theta \\right )}}{4 \\pi \\epsilon_{0} \\left(s^{2} + \\left(\\alpha_{1} + t v\\right)^{2}\\right) \\left(s^{2} + \\left(\\alpha_{2} - t v\\right)^{2}\\right) \\left(- \\beta^{2} \\sin^{2}{\\left (\\theta_{1} \\right )} + 1\\right)^{\\frac{3}{2}} \\left(- \\beta^{2} \\sin^{2}{\\left (\\theta_{2} \\right )} + 1\\right)^{\\frac{3}{2}}}$"
      ],
      "text/plain": [
       "<IPython.core.display.Math object>"
      ]
     },
     "metadata": {},
     "output_type": "display_data"
    },
    {
     "name": "stdout",
     "output_type": "stream",
     "text": [
      "\n"
     ]
    },
    {
     "data": {
      "text/latex": [
       "$\\displaystyle E_y = - \\frac{q s \\left(\\beta^{2} - 1\\right) \\left(\\left(s^{2} + \\left(\\alpha_{1} + t v\\right)^{2}\\right) \\left(- \\beta^{2} \\sin^{2}{\\left (\\theta_{1} \\right )} + 1\\right)^{\\frac{3}{2}} + \\left(s^{2} + \\left(\\alpha_{2} - t v\\right)^{2}\\right) \\left(- \\beta^{2} \\sin^{2}{\\left (\\theta_{2} \\right )} + 1\\right)^{\\frac{3}{2}}\\right) \\sin{\\left (\\theta \\right )}}{4 \\pi \\epsilon_{0} \\left(s^{2} + \\left(\\alpha_{1} + t v\\right)^{2}\\right) \\left(s^{2} + \\left(\\alpha_{2} - t v\\right)^{2}\\right) \\left(- \\beta^{2} \\sin^{2}{\\left (\\theta_{1} \\right )} + 1\\right)^{\\frac{3}{2}} \\left(- \\beta^{2} \\sin^{2}{\\left (\\theta_{2} \\right )} + 1\\right)^{\\frac{3}{2}}}$"
      ],
      "text/plain": [
       "<IPython.core.display.Math object>"
      ]
     },
     "metadata": {},
     "output_type": "display_data"
    },
    {
     "name": "stdout",
     "output_type": "stream",
     "text": [
      "\n"
     ]
    },
    {
     "data": {
      "text/latex": [
       "$\\displaystyle E_z = - \\frac{q \\left(\\beta^{2} - 1\\right) \\left(\\left(\\alpha_{1} + t v\\right) \\left(s^{2} + \\left(\\alpha_{2} - t v\\right)^{2}\\right) \\left(- \\beta^{2} \\sin^{2}{\\left (\\theta_{2} \\right )} + 1\\right)^{\\frac{3}{2}} + \\left(\\alpha_{2} - t v\\right) \\left(s^{2} + \\left(\\alpha_{1} + t v\\right)^{2}\\right) \\left(- \\beta^{2} \\sin^{2}{\\left (\\theta_{1} \\right )} + 1\\right)^{\\frac{3}{2}}\\right)}{4 \\pi \\epsilon_{0} \\left(s^{2} + \\left(\\alpha_{1} + t v\\right)^{2}\\right) \\left(s^{2} + \\left(\\alpha_{2} - t v\\right)^{2}\\right) \\left(- \\beta^{2} \\sin^{2}{\\left (\\theta_{1} \\right )} + 1\\right)^{\\frac{3}{2}} \\left(- \\beta^{2} \\sin^{2}{\\left (\\theta_{2} \\right )} + 1\\right)^{\\frac{3}{2}}}$"
      ],
      "text/plain": [
       "<IPython.core.display.Math object>"
      ]
     },
     "metadata": {},
     "output_type": "display_data"
    },
    {
     "name": "stdout",
     "output_type": "stream",
     "text": [
      "\n"
     ]
    },
    {
     "data": {
      "text/latex": [
       "$\\displaystyle B_x = \\frac{\\mu_{0} q s v \\left(\\beta^{2} - 1\\right) \\left(- \\left(s^{2} + \\left(\\alpha_{1} + t v\\right)^{2}\\right) \\left(- \\beta^{2} \\sin^{2}{\\left (\\theta_{1} \\right )} + 1\\right)^{\\frac{3}{2}} + \\left(s^{2} + \\left(\\alpha_{2} - t v\\right)^{2}\\right) \\left(- \\beta^{2} \\sin^{2}{\\left (\\theta_{2} \\right )} + 1\\right)^{\\frac{3}{2}}\\right) \\sin{\\left (\\theta \\right )}}{4 \\pi \\left(s^{2} + \\left(\\alpha_{1} + t v\\right)^{2}\\right) \\left(s^{2} + \\left(\\alpha_{2} - t v\\right)^{2}\\right) \\left(- \\beta^{2} \\sin^{2}{\\left (\\theta_{1} \\right )} + 1\\right)^{\\frac{3}{2}} \\left(- \\beta^{2} \\sin^{2}{\\left (\\theta_{2} \\right )} + 1\\right)^{\\frac{3}{2}}}$"
      ],
      "text/plain": [
       "<IPython.core.display.Math object>"
      ]
     },
     "metadata": {},
     "output_type": "display_data"
    },
    {
     "name": "stdout",
     "output_type": "stream",
     "text": [
      "\n"
     ]
    },
    {
     "data": {
      "text/latex": [
       "$\\displaystyle B_y = \\frac{\\mu_{0} q s v \\left(\\beta^{2} - 1\\right) \\left(\\left(s^{2} + \\left(\\alpha_{1} + t v\\right)^{2}\\right) \\left(- \\beta^{2} \\sin^{2}{\\left (\\theta_{1} \\right )} + 1\\right)^{\\frac{3}{2}} - \\left(s^{2} + \\left(\\alpha_{2} - t v\\right)^{2}\\right) \\left(- \\beta^{2} \\sin^{2}{\\left (\\theta_{2} \\right )} + 1\\right)^{\\frac{3}{2}}\\right) \\cos{\\left (\\theta \\right )}}{4 \\pi \\left(s^{2} + \\left(\\alpha_{1} + t v\\right)^{2}\\right) \\left(s^{2} + \\left(\\alpha_{2} - t v\\right)^{2}\\right) \\left(- \\beta^{2} \\sin^{2}{\\left (\\theta_{1} \\right )} + 1\\right)^{\\frac{3}{2}} \\left(- \\beta^{2} \\sin^{2}{\\left (\\theta_{2} \\right )} + 1\\right)^{\\frac{3}{2}}}$"
      ],
      "text/plain": [
       "<IPython.core.display.Math object>"
      ]
     },
     "metadata": {},
     "output_type": "display_data"
    },
    {
     "name": "stdout",
     "output_type": "stream",
     "text": [
      "\n"
     ]
    },
    {
     "data": {
      "text/latex": [
       "$\\displaystyle B_z = 0$"
      ],
      "text/plain": [
       "<IPython.core.display.Math object>"
      ]
     },
     "metadata": {},
     "output_type": "display_data"
    }
   ],
   "source": [
    "display(Math(r'E_x = ' + sym.latex(Ex)))\n",
    "print('')\n",
    "display(Math(r'E_y = ' + sym.latex(Ey)))\n",
    "print('')\n",
    "display(Math(r'E_z = ' + sym.latex(Ez)))\n",
    "print('')\n",
    "\n",
    "display(Math(r'B_x = ' + sym.latex(Bx)))\n",
    "print('')\n",
    "display(Math(r'B_y = ' + sym.latex(By)))\n",
    "print('')\n",
    "display(Math(r'B_z = ' + sym.latex(Bz)))"
   ]
  },
  {
   "cell_type": "markdown",
   "metadata": {},
   "source": [
    "### Find the tensor components\n",
    "\n",
    "We want to evaluate the force betweent the two changes. To do this, we need to create a cube around the charges and integrate the tensor over the area of the cube. We know that the electric and magnetic fields will go to zero at infinity, so all but the integral over the area between the two changes will be zero. This area has a normal vector in the $\\hat{z}$ direction, so the components of the tensor that will not become zero is the $\\hat{z}$ components: $T_{zx}$,  $T_{zy}$, and $T_{zz}$"
   ]
  },
  {
   "cell_type": "markdown",
   "metadata": {},
   "source": [
    "$$T_{ij} = \\epsilon_0 \\left(E_i E_j - \\frac{1}{2} \\delta_{ij}E^2\\right) + \\frac{1}{\\mu_0}\\left(B_i B_j - \\frac{1}{2} \\delta_{ij}B^2\\right)$$\n",
    "\n",
    "Thus, we have: \n",
    "\n",
    "> $T_{zx} = \\epsilon_0 \\left(E_z E_x \\right) + \\frac{1}{\\mu_0}\\left(B_z B_x \\right)$\n",
    "\n",
    "> $T_{zy} = \\epsilon_0 \\left(E_z E_y \\right) + \\frac{1}{\\mu_0}\\left(B_z B_y \\right)$\n",
    "\n",
    "> $T_{zz} = \\epsilon_0 \\left(E_z^2 - \\frac{1}{2} E^2\\right) + \\frac{1}{\\mu_0}\\left(B_z - \\frac{1}{2} B^2\\right) = \\frac{\\epsilon_0}{2} \\left(- E_x^2 - E_y^2 + E_z^2 \\right) + \\frac{1}{2 \\mu_0}\\left(- B_x^2 - B_y^2 + B_z^2\\right)$"
   ]
  },
  {
   "cell_type": "code",
   "execution_count": null,
   "metadata": {},
   "outputs": [
    {
     "data": {
      "text/latex": [
       "$\\displaystyle T_{zx} = \\frac{q^{2} s \\left(\\beta^{2} - 1\\right)^{2} \\left(\\left(s^{2} + \\left(\\alpha_{1} + t v\\right)^{2}\\right) \\left(- \\beta^{2} \\sin^{2}{\\left (\\theta_{1} \\right )} + 1\\right)^{\\frac{3}{2}} + \\left(s^{2} + \\left(\\alpha_{2} - t v\\right)^{2}\\right) \\left(- \\beta^{2} \\sin^{2}{\\left (\\theta_{2} \\right )} + 1\\right)^{\\frac{3}{2}}\\right) \\left(\\left(\\alpha_{1} + t v\\right) \\left(s^{2} + \\left(\\alpha_{2} - t v\\right)^{2}\\right) \\left(- \\beta^{2} \\sin^{2}{\\left (\\theta_{2} \\right )} + 1\\right)^{\\frac{3}{2}} + \\left(\\alpha_{2} - t v\\right) \\left(s^{2} + \\left(\\alpha_{1} + t v\\right)^{2}\\right) \\left(- \\beta^{2} \\sin^{2}{\\left (\\theta_{1} \\right )} + 1\\right)^{\\frac{3}{2}}\\right) \\cos{\\left (\\theta \\right )}}{16 \\pi^{2} \\epsilon_{0} \\left(s^{2} + \\left(\\alpha_{1} + t v\\right)^{2}\\right)^{2} \\left(s^{2} + \\left(\\alpha_{2} - t v\\right)^{2}\\right)^{2} \\left(\\beta^{2} \\sin^{2}{\\left (\\theta_{1} \\right )} - 1\\right)^{3} \\left(\\beta^{2} \\sin^{2}{\\left (\\theta_{2} \\right )} - 1\\right)^{3}}$"
      ],
      "text/plain": [
       "<IPython.core.display.Math object>"
      ]
     },
     "metadata": {},
     "output_type": "display_data"
    },
    {
     "name": "stdout",
     "output_type": "stream",
     "text": [
      "\n"
     ]
    },
    {
     "data": {
      "text/latex": [
       "$\\displaystyle T_{zy} = \\frac{q^{2} s \\left(\\beta^{2} - 1\\right)^{2} \\left(\\left(s^{2} + \\left(\\alpha_{1} + t v\\right)^{2}\\right) \\left(- \\beta^{2} \\sin^{2}{\\left (\\theta_{1} \\right )} + 1\\right)^{\\frac{3}{2}} + \\left(s^{2} + \\left(\\alpha_{2} - t v\\right)^{2}\\right) \\left(- \\beta^{2} \\sin^{2}{\\left (\\theta_{2} \\right )} + 1\\right)^{\\frac{3}{2}}\\right) \\left(\\left(\\alpha_{1} + t v\\right) \\left(s^{2} + \\left(\\alpha_{2} - t v\\right)^{2}\\right) \\left(- \\beta^{2} \\sin^{2}{\\left (\\theta_{2} \\right )} + 1\\right)^{\\frac{3}{2}} + \\left(\\alpha_{2} - t v\\right) \\left(s^{2} + \\left(\\alpha_{1} + t v\\right)^{2}\\right) \\left(- \\beta^{2} \\sin^{2}{\\left (\\theta_{1} \\right )} + 1\\right)^{\\frac{3}{2}}\\right) \\sin{\\left (\\theta \\right )}}{16 \\pi^{2} \\epsilon_{0} \\left(s^{2} + \\left(\\alpha_{1} + t v\\right)^{2}\\right)^{2} \\left(s^{2} + \\left(\\alpha_{2} - t v\\right)^{2}\\right)^{2} \\left(\\beta^{2} \\sin^{2}{\\left (\\theta_{1} \\right )} - 1\\right)^{3} \\left(\\beta^{2} \\sin^{2}{\\left (\\theta_{2} \\right )} - 1\\right)^{3}}$"
      ],
      "text/plain": [
       "<IPython.core.display.Math object>"
      ]
     },
     "metadata": {},
     "output_type": "display_data"
    },
    {
     "name": "stdout",
     "output_type": "stream",
     "text": [
      "\n"
     ]
    },
    {
     "data": {
      "text/latex": [
       "$\\displaystyle T_{zz} = \\frac{q^{2} \\left(\\beta^{2} - 1\\right)^{2} \\left(- \\epsilon_{0} \\mu_{0} s^{2} v^{2} \\left(\\left(s^{2} + \\left(\\alpha_{1} + t v\\right)^{2}\\right) \\left(- \\beta^{2} \\sin^{2}{\\left (\\theta_{1} \\right )} + 1\\right)^{\\frac{3}{2}} - \\left(s^{2} + \\left(\\alpha_{2} - t v\\right)^{2}\\right) \\left(- \\beta^{2} \\sin^{2}{\\left (\\theta_{2} \\right )} + 1\\right)^{\\frac{3}{2}}\\right)^{2} - s^{2} \\left(\\left(s^{2} + \\left(\\alpha_{1} + t v\\right)^{2}\\right) \\left(- \\beta^{2} \\sin^{2}{\\left (\\theta_{1} \\right )} + 1\\right)^{\\frac{3}{2}} + \\left(s^{2} + \\left(\\alpha_{2} - t v\\right)^{2}\\right) \\left(- \\beta^{2} \\sin^{2}{\\left (\\theta_{2} \\right )} + 1\\right)^{\\frac{3}{2}}\\right)^{2} \\sin^{2}{\\left (\\theta \\right )} - s^{2} \\left(\\left(s^{2} + \\left(\\alpha_{1} + t v\\right)^{2}\\right) \\left(- \\beta^{2} \\sin^{2}{\\left (\\theta_{1} \\right )} + 1\\right)^{\\frac{3}{2}} + \\left(s^{2} + \\left(\\alpha_{2} - t v\\right)^{2}\\right) \\left(- \\beta^{2} \\sin^{2}{\\left (\\theta_{2} \\right )} + 1\\right)^{\\frac{3}{2}}\\right)^{2} \\cos^{2}{\\left (\\theta \\right )} + \\left(\\left(\\alpha_{1} + t v\\right) \\left(s^{2} + \\left(\\alpha_{2} - t v\\right)^{2}\\right) \\left(- \\beta^{2} \\sin^{2}{\\left (\\theta_{2} \\right )} + 1\\right)^{\\frac{3}{2}} + \\left(\\alpha_{2} - t v\\right) \\left(s^{2} + \\left(\\alpha_{1} + t v\\right)^{2}\\right) \\left(- \\beta^{2} \\sin^{2}{\\left (\\theta_{1} \\right )} + 1\\right)^{\\frac{3}{2}}\\right)^{2}\\right)}{32 \\pi^{2} \\epsilon_{0} \\left(s^{2} + \\left(\\alpha_{1} + t v\\right)^{2}\\right)^{2} \\left(s^{2} + \\left(\\alpha_{2} - t v\\right)^{2}\\right)^{2} \\left(\\beta^{2} \\sin^{2}{\\left (\\theta_{1} \\right )} - 1\\right)^{3} \\left(\\beta^{2} \\sin^{2}{\\left (\\theta_{2} \\right )} - 1\\right)^{3}}$"
      ],
      "text/plain": [
       "<IPython.core.display.Math object>"
      ]
     },
     "metadata": {},
     "output_type": "display_data"
    }
   ],
   "source": [
    "Tzx = (eps0 * Ez * Ex).simplify()\n",
    "Tzy = (eps0 * Ez * Ey).simplify()\n",
    "Tzz = (eps0*(-Ex**2 - Ey**2 + Ez**2) + (1/mu0)*(-Bx**2 - By**2 + Bz**2)).simplify() / 2\n",
    "\n",
    "display(Math(r'T_{zx} = ' + sym.latex(Tzx)))\n",
    "print('')\n",
    "display(Math(r'T_{zy} = ' + sym.latex(Tzy)))\n",
    "print('')\n",
    "display(Math(r'T_{zz} = ' + sym.latex(Tzz)))"
   ]
  },
  {
   "cell_type": "markdown",
   "metadata": {},
   "source": [
    "Adding these components up, we will have the tensor component in the $\\hat{z}$ direction: "
   ]
  },
  {
   "cell_type": "code",
   "execution_count": null,
   "metadata": {},
   "outputs": [
    {
     "data": {
      "text/latex": [
       "$\\displaystyle T_{z} = \\frac{q^{2} \\left(\\beta^{2} - 1\\right)^{2} \\left(- \\epsilon_{0} \\mu_{0} s^{2} v^{2} \\left(\\left(s^{2} + \\left(\\alpha_{1} + t v\\right)^{2}\\right) \\left(- \\beta^{2} \\sin^{2}{\\left (\\theta_{1} \\right )} + 1\\right)^{\\frac{3}{2}} - \\left(s^{2} + \\left(\\alpha_{2} - t v\\right)^{2}\\right) \\left(- \\beta^{2} \\sin^{2}{\\left (\\theta_{2} \\right )} + 1\\right)^{\\frac{3}{2}}\\right)^{2} - s^{2} \\left(\\left(s^{2} + \\left(\\alpha_{1} + t v\\right)^{2}\\right) \\left(- \\beta^{2} \\sin^{2}{\\left (\\theta_{1} \\right )} + 1\\right)^{\\frac{3}{2}} + \\left(s^{2} + \\left(\\alpha_{2} - t v\\right)^{2}\\right) \\left(- \\beta^{2} \\sin^{2}{\\left (\\theta_{2} \\right )} + 1\\right)^{\\frac{3}{2}}\\right)^{2} \\sin^{2}{\\left (\\theta \\right )} - s^{2} \\left(\\left(s^{2} + \\left(\\alpha_{1} + t v\\right)^{2}\\right) \\left(- \\beta^{2} \\sin^{2}{\\left (\\theta_{1} \\right )} + 1\\right)^{\\frac{3}{2}} + \\left(s^{2} + \\left(\\alpha_{2} - t v\\right)^{2}\\right) \\left(- \\beta^{2} \\sin^{2}{\\left (\\theta_{2} \\right )} + 1\\right)^{\\frac{3}{2}}\\right)^{2} \\cos^{2}{\\left (\\theta \\right )} + 2 s \\left(\\left(s^{2} + \\left(\\alpha_{1} + t v\\right)^{2}\\right) \\left(- \\beta^{2} \\sin^{2}{\\left (\\theta_{1} \\right )} + 1\\right)^{\\frac{3}{2}} + \\left(s^{2} + \\left(\\alpha_{2} - t v\\right)^{2}\\right) \\left(- \\beta^{2} \\sin^{2}{\\left (\\theta_{2} \\right )} + 1\\right)^{\\frac{3}{2}}\\right) \\left(\\left(\\alpha_{1} + t v\\right) \\left(s^{2} + \\left(\\alpha_{2} - t v\\right)^{2}\\right) \\left(- \\beta^{2} \\sin^{2}{\\left (\\theta_{2} \\right )} + 1\\right)^{\\frac{3}{2}} + \\left(\\alpha_{2} - t v\\right) \\left(s^{2} + \\left(\\alpha_{1} + t v\\right)^{2}\\right) \\left(- \\beta^{2} \\sin^{2}{\\left (\\theta_{1} \\right )} + 1\\right)^{\\frac{3}{2}}\\right) \\sin{\\left (\\theta \\right )} + 2 s \\left(\\left(s^{2} + \\left(\\alpha_{1} + t v\\right)^{2}\\right) \\left(- \\beta^{2} \\sin^{2}{\\left (\\theta_{1} \\right )} + 1\\right)^{\\frac{3}{2}} + \\left(s^{2} + \\left(\\alpha_{2} - t v\\right)^{2}\\right) \\left(- \\beta^{2} \\sin^{2}{\\left (\\theta_{2} \\right )} + 1\\right)^{\\frac{3}{2}}\\right) \\left(\\left(\\alpha_{1} + t v\\right) \\left(s^{2} + \\left(\\alpha_{2} - t v\\right)^{2}\\right) \\left(- \\beta^{2} \\sin^{2}{\\left (\\theta_{2} \\right )} + 1\\right)^{\\frac{3}{2}} + \\left(\\alpha_{2} - t v\\right) \\left(s^{2} + \\left(\\alpha_{1} + t v\\right)^{2}\\right) \\left(- \\beta^{2} \\sin^{2}{\\left (\\theta_{1} \\right )} + 1\\right)^{\\frac{3}{2}}\\right) \\cos{\\left (\\theta \\right )} + \\left(\\left(\\alpha_{1} + t v\\right) \\left(s^{2} + \\left(\\alpha_{2} - t v\\right)^{2}\\right) \\left(- \\beta^{2} \\sin^{2}{\\left (\\theta_{2} \\right )} + 1\\right)^{\\frac{3}{2}} + \\left(\\alpha_{2} - t v\\right) \\left(s^{2} + \\left(\\alpha_{1} + t v\\right)^{2}\\right) \\left(- \\beta^{2} \\sin^{2}{\\left (\\theta_{1} \\right )} + 1\\right)^{\\frac{3}{2}}\\right)^{2}\\right)}{32 \\pi^{2} \\epsilon_{0} \\left(s^{2} + \\left(\\alpha_{1} + t v\\right)^{2}\\right)^{2} \\left(s^{2} + \\left(\\alpha_{2} - t v\\right)^{2}\\right)^{2} \\left(\\beta^{2} \\sin^{2}{\\left (\\theta_{1} \\right )} - 1\\right)^{3} \\left(\\beta^{2} \\sin^{2}{\\left (\\theta_{2} \\right )} - 1\\right)^{3}}$"
      ],
      "text/plain": [
       "<IPython.core.display.Math object>"
      ]
     },
     "metadata": {},
     "output_type": "display_data"
    }
   ],
   "source": [
    "Tz = (Tzx + Tzy + Tzz).simplify()\n",
    "\n",
    "display(Math(r'T_{z} = ' + sym.latex(Tz)))"
   ]
  },
  {
   "cell_type": "markdown",
   "metadata": {},
   "source": [
    "Now, let's integrate this over the area: \n",
    "\n",
    "$$\\oint T_z \\ \\text{d}a_z = \\int_0^\\infty \\int_0^{2 \\pi} \\text{d}s\\ \\text{d}\\theta \\ T_z $$"
   ]
  },
  {
   "cell_type": "code",
   "execution_count": null,
   "metadata": {},
   "outputs": [],
   "source": [
    "T_int = integrate(Tz*s, (s, 0, oo), (the, 0, 2*pi))\n",
    "\n",
    "display(Math(r'\\oint T_{z} \\ \\text{d} a_z = ' + sym.latex(T_int).simplify()))"
   ]
  },
  {
   "cell_type": "markdown",
   "metadata": {},
   "source": [
    "Now that we have the first term for the force, time to move onto the second term:\n",
    "\n",
    "$$\\epsilon_0 \\mu_0 \\frac{\\text{d}}{\\text{d}t} \\int_V \\vec{S} \\ \\text{d} \\tau$$\n",
    "\n",
    "$$\\text{Where} \\ \\vec{S} = \\frac{1}{\\mu_0} \\text{Re}(\\vec{E} \\times \\vec{B}^*)$$ "
   ]
  },
  {
   "cell_type": "code",
   "execution_count": null,
   "metadata": {},
   "outputs": [],
   "source": [
    "# Calculate the Poynting vector\n",
    "# =============================\n",
    "E = sym.Matrix([Ex, Ey, Ez])\n",
    "B = sym.Matrix([Bx, By, Bz])\n",
    "\n",
    "S = ((1/mu0) * E.cross(B)).simplify()\n",
    "\n",
    "display(Math(r'\\vec{S} = ' + sym.latex(S)))"
   ]
  },
  {
   "cell_type": "code",
   "execution_count": null,
   "metadata": {},
   "outputs": [],
   "source": [
    "# Integrate the Poynting vector over the volume\n",
    "# =============================================\n",
    "\n",
    "S_int = integrate(S*s, (s, 0, oo), (the, 0, 2*pi), (z, -oo, oo))\n",
    "\n",
    "display(Math(r'\\int_V \\vec{S} \\ \\text{d} \\tau = ' + sym.latex(S_int)))"
   ]
  },
  {
   "cell_type": "markdown",
   "metadata": {},
   "source": [
    "Now that we have the integral for $\\vec{S}$ over the volume, we have to find its time derivative. We can do this by hand, so back to writing."
   ]
  },
  {
   "cell_type": "markdown",
   "metadata": {},
   "source": [
    "\\newpage\n",
    "\n",
    "## 6) COMPUTATION: Finite Difference Time Domain method (extended)"
   ]
  },
  {
   "cell_type": "code",
   "execution_count": null,
   "metadata": {},
   "outputs": [],
   "source": [
    "x_space = np.arange(-400, 401, 1)"
   ]
  },
  {
   "cell_type": "code",
   "execution_count": null,
   "metadata": {},
   "outputs": [],
   "source": [
    "t_max = 500\n",
    "imp0 = 377\n",
    "H_y = np.zeros((t_max, len(x_space)))\n",
    "E_z = np.zeros((t_max, len(x_space)))\n",
    "temp1 = np.zeros(len(x_space))\n",
    "temp2 = np.zeros(len(x_space))\n",
    "R = np.zeros(len(x_space)) + 1\n",
    "# muR = np.zeros(len(x_space)) + 1\n",
    "\n",
    "R[400-140] = R[400+140] = 5\n",
    "R[:400-200] = R[400+200:] = 10**10\n",
    "# muR[70] = 5\n",
    "\n",
    "for i in range(0, t_max, 1):\n",
    "    temp1[len(x_space)-1] = temp1[len(x_space)-2]\n",
    "    for j in range(0, len(x_space)-1, 1):\n",
    "        temp1[j] += (temp2[j+1] - temp2[j]) / imp0 / R[j]\n",
    "    \n",
    "    temp2[0] = temp2[1]\n",
    "    for j in range(1, len(x_space), 1):    \n",
    "        temp2[j] += (temp1[j] - temp1[j-1]) * imp0 / R[j]\n",
    "    \n",
    "    temp2[400] += exp(-(i-30)*(i-30)/100)\n",
    "    \n",
    "    E_z[i,:] = temp2[:]\n",
    "    H_y[i,:] = temp1[:]"
   ]
  },
  {
   "cell_type": "code",
   "execution_count": null,
   "metadata": {},
   "outputs": [],
   "source": [
    "plt.figure(figsize = (10, 20))\n",
    "for i in range(0, t_max, 10):\n",
    "    plt.plot(x_space/20, E_z[i, :] + i/10, color=\"b\", zorder=10, linewidth=1)\n",
    "    plt.plot(x_space/20, H_y[i, :]*100 + i/10, color=\"orange\", zorder=9, linewidth=1)\n",
    "\n",
    "plt.fill([-15,-10,-10,-15], [-1,-1,60,60], 'black', alpha=0.2)\n",
    "plt.fill([15,10,10,15], [-1,-1,60,60], 'black', alpha=0.2)\n",
    "plt.fill([-15,-7,-7,-15], [-1,-1,60,60], 'black', alpha=0.2)\n",
    "plt.fill([15,7,7,15], [-1,-1,60,60], 'black', alpha=0.2)\n",
    "\n",
    "plt.xlim([-15, 15])\n",
    "plt.ylim(-1, 52)\n",
    "plt.legend((r'$|\\vec{E}|$ (normalized)', r'$|\\vec{B}|$ (relative to $|\\vec{E}| \\times 100$)'))\n",
    "plt.xlabel(r'Space [$\\sigma$]')\n",
    "plt.ylabel('Time [frame number]')\n",
    "\n",
    "caption = r\"The light grey regions are dielectrics with $\\epsilon_r = 5$, whereas the dark grey regions are the reflective boundaries.\"\n",
    "plt.text(16, -0.15, \"\\n\".join(wrap(caption, 50)), ha='left', fontsize=12, wrap=False)\n",
    "\n",
    "plt.show()"
   ]
  },
  {
   "cell_type": "markdown",
   "metadata": {},
   "source": [
    "/newpage"
   ]
  },
  {
   "cell_type": "code",
   "execution_count": null,
   "metadata": {},
   "outputs": [],
   "source": [
    "# %matplotlib qt\n",
    "# Animation\n",
    "# =========\n",
    "# def ani_func(i, E=E_z):\n",
    "#     return E[:, i]\n",
    "t = np.linspace(0, 0.001, 500)\n",
    "timeline = amp.Timeline(t, units='s', fps=60)\n",
    "\n",
    "fig = plt.figure()\n",
    "block1 = amp.blocks.Line(E_z)\n",
    "block2 = amp.blocks.Line(H_y*100)\n",
    "anim = amp.Animation([block1, block2], timeline)\n",
    "\n",
    "plt.ylim([-1, 1])\n",
    "plt.xlim([100, 700])\n",
    "# plt.tick_params(axis='both', which='both', \n",
    "#            bottom=False, top=False, left=False, right=False,\n",
    "#            labelbottom=False, labeltop=False, labelleft=False, labelright=False,\n",
    "#            labelsize=0)\n",
    "\n",
    "anim.controls({'valfmt':'%.5f'})\n",
    "#anim.timeline_slider(valfmt='%.5f')\n",
    "#anim.toggle()\n",
    "# anim.save_gif('ising')\n",
    "\n",
    "\n",
    "#ani = FuncAnimation(fig, ani_func, frames=np.linspace(0, 200, 200), blit=True)\n",
    "plt.show()"
   ]
  },
  {
   "cell_type": "code",
   "execution_count": null,
   "metadata": {},
   "outputs": [],
   "source": []
  }
 ],
 "metadata": {
  "kernelspec": {
   "display_name": "Python 3",
   "language": "python",
   "name": "python3"
  },
  "language_info": {
   "codemirror_mode": {
    "name": "ipython",
    "version": 3
   },
   "file_extension": ".py",
   "mimetype": "text/x-python",
   "name": "python",
   "nbconvert_exporter": "python",
   "pygments_lexer": "ipython3",
   "version": "3.7.1"
  }
 },
 "nbformat": 4,
 "nbformat_minor": 2
}
