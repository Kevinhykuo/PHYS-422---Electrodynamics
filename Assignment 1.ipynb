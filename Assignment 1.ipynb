{
 "cells": [
  {
   "cell_type": "markdown",
   "metadata": {},
   "source": [
    "# Assignment 1"
   ]
  },
  {
   "cell_type": "code",
   "execution_count": 1,
   "metadata": {},
   "outputs": [],
   "source": [
    "import numpy as np\n",
    "import matplotlib as mp\n",
    "import matplotlib.pyplot as plt\n",
    "\n",
    "from numpy import pi\n",
    "\n",
    "%matplotlib inline\n",
    "%config InlineBackend.figure_format = 'pdf'"
   ]
  },
  {
   "cell_type": "markdown",
   "metadata": {},
   "source": [
    "## 5) COMPUTATION\n",
    "> Electric field of a quadrupole"
   ]
  },
  {
   "cell_type": "code",
   "execution_count": 5,
   "metadata": {},
   "outputs": [],
   "source": [
    "r_max = 2\n",
    "r_min = -2\n",
    "res = 10**-3\n",
    "\n",
    "x = np.arange(r_min, r_max, res)\n",
    "y = np.arange(r_min, r_max, res)\n",
    "\n",
    "X, Y = np.meshgrid(x, y)"
   ]
  },
  {
   "cell_type": "code",
   "execution_count": null,
   "metadata": {},
   "outputs": [],
   "source": [
    "# Useful functions \n",
    "# ================\n",
    "\n",
    "# Distance \n",
    "def dist(x, y, dim, X=KX, Y=KY,\n",
    "         rs_xpos = pos[:,0], rs_ypos=pos[:,1]):\n",
    "    [xmin, xmax, ymin, ymax] = dim\n",
    "    # Change the indicies to locations \n",
    "    xx = x*abs(xmin-xmax)/len(X) + xmin\n",
    "    yy = y*abs(ymin-ymax)/len(Y) + ymin\n",
    "    # Get the distance \n",
    "    xdist = (rs_xpos - xx)**2\n",
    "    ydist = (rs_ypos - yy)**2\n",
    "    R = sqrt(xdist + ydist)\n",
    "    return R\n",
    "\n",
    "def E_field()"
   ]
  },
  {
   "cell_type": "code",
   "execution_count": null,
   "metadata": {},
   "outputs": [],
   "source": []
  }
 ],
 "metadata": {
  "kernelspec": {
   "display_name": "Python 3",
   "language": "python",
   "name": "python3"
  },
  "language_info": {
   "codemirror_mode": {
    "name": "ipython",
    "version": 3
   },
   "file_extension": ".py",
   "mimetype": "text/x-python",
   "name": "python",
   "nbconvert_exporter": "python",
   "pygments_lexer": "ipython3",
   "version": "3.7.2"
  }
 },
 "nbformat": 4,
 "nbformat_minor": 2
}
