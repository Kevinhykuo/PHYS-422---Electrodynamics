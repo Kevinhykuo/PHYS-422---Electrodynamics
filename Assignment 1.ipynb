{
 "cells": [
  {
   "cell_type": "markdown",
   "metadata": {},
   "source": [
    "# Assignment 1"
   ]
  },
  {
   "cell_type": "code",
   "execution_count": 1,
   "metadata": {},
   "outputs": [],
   "source": [
    "import numpy as np\n",
    "import matplotlib as mp\n",
    "import matplotlib.pyplot as plt\n",
    "\n",
    "from numpy import pi\n",
    "\n",
    "%matplotlib inline\n",
    "%config InlineBackend.figure_format = 'pdf'"
   ]
  },
  {
   "cell_type": "markdown",
   "metadata": {},
   "source": [
    "## 5) COMPUTATION\n",
    "> Electric field of a quadrupole"
   ]
  },
  {
   "cell_type": "code",
   "execution_count": 16,
   "metadata": {},
   "outputs": [],
   "source": [
    "r_max = 2\n",
    "r_min = -2\n",
    "res = 10**-2\n",
    "\n",
    "x = np.arange(r_min, r_max, res)\n",
    "y = np.arange(r_min, r_max, res)\n",
    "\n",
    "GX, GY = np.meshgrid(x, y)"
   ]
  },
  {
   "cell_type": "code",
   "execution_count": 8,
   "metadata": {},
   "outputs": [],
   "source": [
    "# Charge locations and charge \n",
    "c_pos = np.array([[1, -1, 0, 0], [0, 0, 1, -1]])\n",
    "c_chr = np.array([-1, -1, 1, 1])"
   ]
  },
  {
   "cell_type": "code",
   "execution_count": 59,
   "metadata": {},
   "outputs": [],
   "source": [
    "# Useful functions \n",
    "# ================\n",
    "\n",
    "def dist(Pos, X, Y):\n",
    "    x=Pos[0,:]\n",
    "    y=Pos[1,:]\n",
    "    R=[]\n",
    "    for i in range(0, np.shape(Pos)[1]):\n",
    "        r = np.sqrt((X-x[i])**2 + (Y-y[i])**2)\n",
    "        R.append(r)\n",
    "    return np.array(R)\n",
    "\n",
    "def dist_inv(Pos, X, Y):\n",
    "    R = dist(Pos, X, Y)\n",
    "    return 1/R\n",
    "\n",
    "def E_field(xPos, yPos, X, Y, R):\n",
    "    E_x = (X-xPos)/(R**3)\n",
    "    E_y = (Y-yPos)/(R**3)\n",
    "    E_abs = np.sqrt(E_x**2 + E_y**2)\n",
    "    return E_x, E_y, E_abs"
   ]
  },
  {
   "cell_type": "code",
   "execution_count": 57,
   "metadata": {},
   "outputs": [
    {
     "data": {
      "text/plain": [
       "(4, 400, 400)"
      ]
     },
     "execution_count": 57,
     "metadata": {},
     "output_type": "execute_result"
    }
   ],
   "source": [
    "np.shape(dist_inv(c_pos, GX, GY))"
   ]
  },
  {
   "cell_type": "code",
   "execution_count": 58,
   "metadata": {},
   "outputs": [
    {
     "data": {
      "text/plain": [
       "array([[[0.2773501 , 0.27799129, 0.27863478, ..., 0.44988029,\n",
       "         0.44899515, 0.44810622],\n",
       "        [0.27777671, 0.27842086, 0.27906735, ..., 0.45170786,\n",
       "         0.45081191, 0.44991216],\n",
       "        [0.27820314, 0.27885027, 0.27949976, ..., 0.45354856,\n",
       "         0.45264163, 0.4517309 ],\n",
       "        ...,\n",
       "        [0.27862937, 0.27927949, 0.279932  , ..., 0.45540249,\n",
       "         0.45448442, 0.45356255],\n",
       "        [0.27820314, 0.27885027, 0.27949976, ..., 0.45354856,\n",
       "         0.45264163, 0.4517309 ],\n",
       "        [0.27777671, 0.27842086, 0.27906735, ..., 0.45170786,\n",
       "         0.45081191, 0.44991216]],\n",
       "\n",
       "       [[0.4472136 , 0.44810622, 0.44899515, ..., 0.27928058,\n",
       "         0.27863478, 0.27799129],\n",
       "        [0.44900873, 0.44991216, 0.45081191, ..., 0.27971618,\n",
       "         0.27906735, 0.27842086],\n",
       "        [0.45081649, 0.4517309 , 0.45264163, ..., 0.28015161,\n",
       "         0.27949976, 0.27885027],\n",
       "        ...,\n",
       "        [0.45263699, 0.45356255, 0.45448442, ..., 0.28058688,\n",
       "         0.279932  , 0.27927949],\n",
       "        [0.45081649, 0.4517309 , 0.45264163, ..., 0.28015161,\n",
       "         0.27949976, 0.27885027],\n",
       "        [0.44900873, 0.44991216, 0.45081191, ..., 0.27971618,\n",
       "         0.27906735, 0.27842086]],\n",
       "\n",
       "       [[0.2773501 , 0.27777671, 0.27820314, ..., 0.27862937,\n",
       "         0.27820314, 0.27777671],\n",
       "        [0.27799129, 0.27842086, 0.27885027, ..., 0.27927949,\n",
       "         0.27885027, 0.27842086],\n",
       "        [0.27863478, 0.27906735, 0.27949976, ..., 0.279932  ,\n",
       "         0.27949976, 0.27906735],\n",
       "        ...,\n",
       "        [0.44988029, 0.45170786, 0.45354856, ..., 0.45540249,\n",
       "         0.45354856, 0.45170786],\n",
       "        [0.44899515, 0.45081191, 0.45264163, ..., 0.45448442,\n",
       "         0.45264163, 0.45081191],\n",
       "        [0.44810622, 0.44991216, 0.4517309 , ..., 0.45356255,\n",
       "         0.4517309 , 0.44991216]],\n",
       "\n",
       "       [[0.4472136 , 0.44900873, 0.45081649, ..., 0.45263699,\n",
       "         0.45081649, 0.44900873],\n",
       "        [0.44810622, 0.44991216, 0.4517309 , ..., 0.45356255,\n",
       "         0.4517309 , 0.44991216],\n",
       "        [0.44899515, 0.45081191, 0.45264163, ..., 0.45448442,\n",
       "         0.45264163, 0.45081191],\n",
       "        ...,\n",
       "        [0.27928058, 0.27971618, 0.28015161, ..., 0.28058688,\n",
       "         0.28015161, 0.27971618],\n",
       "        [0.27863478, 0.27906735, 0.27949976, ..., 0.279932  ,\n",
       "         0.27949976, 0.27906735],\n",
       "        [0.27799129, 0.27842086, 0.27885027, ..., 0.27927949,\n",
       "         0.27885027, 0.27842086]]])"
      ]
     },
     "execution_count": 58,
     "metadata": {},
     "output_type": "execute_result"
    }
   ],
   "source": [
    "dist_inv(c_pos, GX, GY)"
   ]
  },
  {
   "cell_type": "code",
   "execution_count": null,
   "metadata": {},
   "outputs": [],
   "source": []
  }
 ],
 "metadata": {
  "kernelspec": {
   "display_name": "Python 3",
   "language": "python",
   "name": "python3"
  },
  "language_info": {
   "codemirror_mode": {
    "name": "ipython",
    "version": 3
   },
   "file_extension": ".py",
   "mimetype": "text/x-python",
   "name": "python",
   "nbconvert_exporter": "python",
   "pygments_lexer": "ipython3",
   "version": "3.7.2"
  }
 },
 "nbformat": 4,
 "nbformat_minor": 2
}
