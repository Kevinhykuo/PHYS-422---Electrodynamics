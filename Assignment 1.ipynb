{
 "cells": [
  {
   "cell_type": "markdown",
   "metadata": {},
   "source": [
    "# Assignment 1"
   ]
  },
  {
   "cell_type": "code",
   "execution_count": 1,
   "metadata": {},
   "outputs": [],
   "source": [
    "import numpy as np\n",
    "import matplotlib as mp\n",
    "import matplotlib.pyplot as plt\n",
    "\n",
    "from numpy import pi\n",
    "\n",
    "%matplotlib inline\n",
    "%config InlineBackend.figure_format = 'pdf'"
   ]
  },
  {
   "cell_type": "markdown",
   "metadata": {},
   "source": [
    "## 5) COMPUTATION\n",
    "> Electric field of a quadrupole"
   ]
  },
  {
   "cell_type": "code",
   "execution_count": 16,
   "metadata": {},
   "outputs": [],
   "source": [
    "r_max = 2\n",
    "r_min = -2\n",
    "res = 10**-2\n",
    "\n",
    "x = np.arange(r_min, r_max, res)\n",
    "y = np.arange(r_min, r_max, res)\n",
    "\n",
    "GX, GY = np.meshgrid(x, y)"
   ]
  },
  {
   "cell_type": "code",
   "execution_count": 8,
   "metadata": {},
   "outputs": [],
   "source": [
    "# Charge locations and charge \n",
    "c_pos = np.array([[1, -1, 0, 0], [0, 0, 1, -1]])\n",
    "c_chr = np.array([-1, -1, 1, 1])"
   ]
  },
  {
   "cell_type": "code",
   "execution_count": 51,
   "metadata": {},
   "outputs": [],
   "source": [
    "# Useful functions \n",
    "# ================\n",
    "\n",
    "def dist(Pos, X, Y):\n",
    "    x=Pos[0,:]\n",
    "    y=Pos[1,:]\n",
    "    R=[]\n",
    "    for i in range(0, np.shape(Pos)[1]):\n",
    "        r = np.sqrt((X-x[i])**2 + (Y-y[i])**2)\n",
    "        R.append(r)\n",
    "    return np.array(R)\n",
    "\n",
    "def dist_inv(Pos, X, Y):\n",
    "    R = dist(Pos, X, Y)\n",
    "    return 1/R"
   ]
  },
  {
   "cell_type": "code",
   "execution_count": 56,
   "metadata": {},
   "outputs": [
    {
     "data": {
      "text/plain": [
       "(4, 400, 400)"
      ]
     },
     "execution_count": 56,
     "metadata": {},
     "output_type": "execute_result"
    }
   ],
   "source": [
    "np.shape(dist(c_pos, GX, GY))"
   ]
  },
  {
   "cell_type": "code",
   "execution_count": 38,
   "metadata": {},
   "outputs": [
    {
     "data": {
      "text/plain": [
       "array([[2.23606798, 2.2271282 , 2.21819747, ..., 2.2092759 , 2.21819747,\n",
       "        2.2271282 ],\n",
       "       [2.23161377, 2.22265607, 2.2137073 , ..., 2.20476756, 2.2137073 ,\n",
       "        2.22265607],\n",
       "       [2.22719555, 2.21822001, 2.20925327, ..., 2.20029543, 2.20925327,\n",
       "        2.21822001],\n",
       "       ...,\n",
       "       [3.58062844, 3.57505245, 3.56949576, ..., 3.56395847, 3.56949576,\n",
       "        3.57505245],\n",
       "       [3.58892742, 3.58336434, 3.57782057, ..., 3.57229618, 3.57782057,\n",
       "        3.58336434],\n",
       "       [3.59723505, 3.59168484, 3.58615393, ..., 3.5806424 , 3.58615393,\n",
       "        3.59168484]])"
      ]
     },
     "execution_count": 38,
     "metadata": {},
     "output_type": "execute_result"
    }
   ],
   "source": [
    "np.sqrt((GX - c_pos[0,:][3])**2 + (GY - c_pos[1,:][3])**2)"
   ]
  },
  {
   "cell_type": "code",
   "execution_count": null,
   "metadata": {},
   "outputs": [],
   "source": []
  }
 ],
 "metadata": {
  "kernelspec": {
   "display_name": "Python 3",
   "language": "python",
   "name": "python3"
  },
  "language_info": {
   "codemirror_mode": {
    "name": "ipython",
    "version": 3
   },
   "file_extension": ".py",
   "mimetype": "text/x-python",
   "name": "python",
   "nbconvert_exporter": "python",
   "pygments_lexer": "ipython3",
   "version": "3.7.2"
  }
 },
 "nbformat": 4,
 "nbformat_minor": 2
}
