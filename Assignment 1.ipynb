{
 "cells": [
  {
   "cell_type": "markdown",
   "metadata": {},
   "source": [
    "# Assignment 1"
   ]
  },
  {
   "cell_type": "code",
   "execution_count": 1,
   "metadata": {},
   "outputs": [],
   "source": [
    "import numpy as np\n",
    "import matplotlib as mp\n",
    "import matplotlib.pyplot as plt\n",
    "\n",
    "from numpy import pi\n",
    "\n",
    "%matplotlib inline\n",
    "%config InlineBackend.figure_format = 'pdf'"
   ]
  },
  {
   "cell_type": "markdown",
   "metadata": {},
   "source": [
    "## 5) COMPUTATION\n",
    "> Electric field of a quadrupole"
   ]
  },
  {
   "cell_type": "code",
   "execution_count": 5,
   "metadata": {},
   "outputs": [],
   "source": [
    "r_max = 2\n",
    "r_min = -2\n",
    "res = 10**-3\n",
    "\n",
    "x = np.arange(r_min, r_max, res)\n",
    "y = np.arange(r_min, r_max, res)\n",
    "\n",
    "X, Y = np.meshgrid(x, y)"
   ]
  },
  {
   "cell_type": "code",
   "execution_count": 8,
   "metadata": {},
   "outputs": [],
   "source": [
    "# Charge locations and charge \n",
    "c_pos = np.array([[1, -1, 0, 0], [0, 0, 1, -1]])\n",
    "c_chr = np.array([-1, -1, 1, 1])"
   ]
  },
  {
   "cell_type": "code",
   "execution_count": 9,
   "metadata": {},
   "outputs": [
    {
     "ename": "NameError",
     "evalue": "name 'pos' is not defined",
     "output_type": "error",
     "traceback": [
      "\u001b[0;31m---------------------------------------------------------------------------\u001b[0m",
      "\u001b[0;31mNameError\u001b[0m                                 Traceback (most recent call last)",
      "\u001b[0;32m<ipython-input-9-b9711daf2224>\u001b[0m in \u001b[0;36m<module>\u001b[0;34m\u001b[0m\n\u001b[1;32m     10\u001b[0m \u001b[0;31m# Distance\u001b[0m\u001b[0;34m\u001b[0m\u001b[0;34m\u001b[0m\u001b[0;34m\u001b[0m\u001b[0m\n\u001b[1;32m     11\u001b[0m def dist(x, y, dim, X, Y,\n\u001b[0;32m---> 12\u001b[0;31m          c_xpos = pos[:,0], c_ypos=pos[:,1]):\n\u001b[0m\u001b[1;32m     13\u001b[0m     \u001b[0;34m[\u001b[0m\u001b[0mxmin\u001b[0m\u001b[0;34m,\u001b[0m \u001b[0mxmax\u001b[0m\u001b[0;34m,\u001b[0m \u001b[0mymin\u001b[0m\u001b[0;34m,\u001b[0m \u001b[0mymax\u001b[0m\u001b[0;34m]\u001b[0m \u001b[0;34m=\u001b[0m \u001b[0mdim\u001b[0m\u001b[0;34m\u001b[0m\u001b[0;34m\u001b[0m\u001b[0m\n\u001b[1;32m     14\u001b[0m     \u001b[0;31m# Change the indicies to locations\u001b[0m\u001b[0;34m\u001b[0m\u001b[0;34m\u001b[0m\u001b[0;34m\u001b[0m\u001b[0m\n",
      "\u001b[0;31mNameError\u001b[0m: name 'pos' is not defined"
     ]
    }
   ],
   "source": [
    "# Useful functions \n",
    "# ================\n",
    "\n",
    "# Dimensions of the grid \n",
    "def get_dim(X, Y):\n",
    "    dim = [np.min(X), np.max(X), np.min(Y), np.max(Y)]\n",
    "    Dim = [float(dim[n]) for n in range(len(dim))]\n",
    "    return DIM\n",
    "\n",
    "# Distance \n",
    "def dist(x, y, dim, X, Y,\n",
    "         xpos = pos[:,0], ypos=pos[:,1]):\n",
    "    [xmin, xmax, ymin, ymax] = dim\n",
    "    # Change the indicies to locations \n",
    "    xx = x*abs(xmin-xmax)/len(X) + xmin\n",
    "    yy = y*abs(ymin-ymax)/len(Y) + ymin\n",
    "    # Get the distance \n",
    "    xdist = (rs_xpos - xx)**2\n",
    "    ydist = (rs_ypos - yy)**2\n",
    "    R = sqrt(xdist + ydist)\n",
    "    return R\n",
    "\n",
    "def E_field()"
   ]
  },
  {
   "cell_type": "code",
   "execution_count": null,
   "metadata": {},
   "outputs": [],
   "source": []
  }
 ],
 "metadata": {
  "kernelspec": {
   "display_name": "Python 3",
   "language": "python",
   "name": "python3"
  },
  "language_info": {
   "codemirror_mode": {
    "name": "ipython",
    "version": 3
   },
   "file_extension": ".py",
   "mimetype": "text/x-python",
   "name": "python",
   "nbconvert_exporter": "python",
   "pygments_lexer": "ipython3",
   "version": "3.7.2"
  }
 },
 "nbformat": 4,
 "nbformat_minor": 2
}
