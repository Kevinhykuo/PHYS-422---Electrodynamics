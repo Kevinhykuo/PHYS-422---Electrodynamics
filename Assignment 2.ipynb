{
 "cells": [
  {
   "cell_type": "markdown",
   "metadata": {},
   "source": [
    "# Assignment 2"
   ]
  },
  {
   "cell_type": "code",
   "execution_count": 2,
   "metadata": {},
   "outputs": [],
   "source": [
    "import numpy as np\n",
    "import matplotlib as mp\n",
    "import matplotlib.pyplot as plt\n",
    "\n",
    "from textwrap import wrap\n",
    "\n",
    "%matplotlib inline\n",
    "%config InlineBackend.figure_format = 'pdf'"
   ]
  },
  {
   "cell_type": "markdown",
   "metadata": {},
   "source": [
    "## Question 5"
   ]
  },
  {
   "cell_type": "markdown",
   "metadata": {},
   "source": [
    "### (a)\n",
    "\n",
    "We have a loop of radius $0.1m$ lying in the xy-plane with current of $I$ flowing.\n",
    "\n",
    "To calculate the magnetic field produced by this loop we use the Biot-Savart Law:\n",
    "\n",
    "$$\\vec{B}(\\vec{r}) = \\frac{\\mu_0 I}{4 \\pi} \\int \\frac{\\text{d}l \\times \\hat{r'}}{r' ^2}$$\n",
    "\n",
    "$$\\text{where} \\left\\{ \\begin{array}{ll}\n",
    "            \\vec{r}  & \\text{is the position vector of the point of evaluation} \\\\\n",
    "            \\vec{r'} & \\text{is the displacement vector from a point in the current loop to the point of evaluation} \\\\\n",
    "            l        & \\text{is the length of the current loop} \\\\\n",
    "            \\end{array} \\right.$$      \n",
    "            \n",
    "We will now create a meshgrid for the space of integration."
   ]
  },
  {
   "cell_type": "code",
   "execution_count": 3,
   "metadata": {},
   "outputs": [],
   "source": [
    "# Dimesions and resolution for the meshgrid \n",
    "r_max = 2\n",
    "r_min = -2\n",
    "res = 10**(-1)\n",
    "\n",
    "x = np.arange(r_min, r_max, res)\n",
    "y = np.arange(r_min, r_max, res)\n",
    "z = np.arange(r_min, r_max, res)\n",
    "\n",
    "GX, GY, GZ = np.meshgrid(x, y, z)"
   ]
  },
  {
   "cell_type": "markdown",
   "metadata": {},
   "source": [
    "Now we create an array of for the position and length of the current loop."
   ]
  },
  {
   "cell_type": "code",
   "execution_count": 29,
   "metadata": {},
   "outputs": [],
   "source": [
    "theta = np.linspace(0, 2*np.pi, int(1/(res*2)))\n",
    "\n",
    "R = np.array([np.cos(theta), np.sin(theta), np.zeros(len(theta))])  # Position of loop segments  \n",
    "L = np.array([-np.sin(theta), np.cos(theta), np.zeros(len(theta))]) # Lengths of loop segments "
   ]
  },
  {
   "cell_type": "markdown",
   "metadata": {},
   "source": [
    "Get the distances and displacement of the point of evaluation to a segment on the current loop"
   ]
  },
  {
   "cell_type": "code",
   "execution_count": 36,
   "metadata": {},
   "outputs": [],
   "source": [
    "# Useful functions \n",
    "# ================\n",
    "def dist(Pos, X, Y, Z):\n",
    "    x=Pos[0,:]\n",
    "    y=Pos[1,:]\n",
    "    z=Pos[2,:]\n",
    "    R=[]\n",
    "    for i in range(0, np.shape(Pos)[1]):\n",
    "        r = np.sqrt((X-x[i])**2 + (Y-y[i])**2 + (Z-z[i])**2)\n",
    "        R.append(r)\n",
    "    return np.array(R)\n",
    "\n",
    "def dist_v(Pos, X, Y, Z):\n",
    "    x=Pos[0,:]\n",
    "    y=Pos[1,:]\n",
    "    z=Pos[2,:]\n",
    "#     a, b, c = np.shape(X)\n",
    "#     R = np.zeros(a, b, c)\n",
    "    R=[]\n",
    "    for i in range(0, np.shape(Pos)[1]):\n",
    "        r = np.array([X-x[i], Y-y[i], Z-z[i]])\n",
    "        R.append(r)\n",
    "    return np.array(R)"
   ]
  },
  {
   "cell_type": "code",
   "execution_count": 37,
   "metadata": {},
   "outputs": [],
   "source": [
    "Dist = dist(R, GX, GY, GZ)\n",
    "Dist_V = dist_v(R, GX, GY, GZ)"
   ]
  },
  {
   "cell_type": "code",
   "execution_count": 51,
   "metadata": {},
   "outputs": [
    {
     "data": {
      "text/plain": [
       "((3, 5), (3, 5))"
      ]
     },
     "execution_count": 51,
     "metadata": {},
     "output_type": "execute_result"
    }
   ],
   "source": [
    "np.shape(R), np.shape(L)"
   ]
  },
  {
   "cell_type": "code",
   "execution_count": 73,
   "metadata": {},
   "outputs": [
    {
     "data": {
      "text/plain": [
       "(array([[-2.9, -1.9, -1.9],\n",
       "        [-1.9, -2.9, -1.9],\n",
       "        [-0.9, -1.9, -1.9],\n",
       "        [-1.9, -0.9, -1.9],\n",
       "        [-2.9, -1.9, -1.9]]),\n",
       " array([[-0.0000000e+00, -1.0000000e+00, -1.2246468e-16,  1.0000000e+00,\n",
       "          2.4492936e-16],\n",
       "        [ 1.0000000e+00,  6.1232340e-17, -1.0000000e+00, -1.8369702e-16,\n",
       "          1.0000000e+00],\n",
       "        [ 0.0000000e+00,  0.0000000e+00,  0.0000000e+00,  0.0000000e+00,\n",
       "          0.0000000e+00]]))"
      ]
     },
     "execution_count": 73,
     "metadata": {},
     "output_type": "execute_result"
    }
   ],
   "source": [
    "Dist_V[:,:,1,1,1], L"
   ]
  },
  {
   "cell_type": "code",
   "execution_count": 57,
   "metadata": {},
   "outputs": [
    {
     "data": {
      "text/plain": [
       "(5, 40, 40, 40)"
      ]
     },
     "execution_count": 57,
     "metadata": {},
     "output_type": "execute_result"
    }
   ],
   "source": [
    "np.shape(Dist)"
   ]
  },
  {
   "cell_type": "code",
   "execution_count": 87,
   "metadata": {},
   "outputs": [],
   "source": [
    "def B(L, R_prime, R_prime_abs):\n",
    "    for i in range(0, np.shape(R_prime)[0]):\n",
    "        L_cross_r = np.cross(L.T, R_prime[:,:,i,i,i])\n",
    "        B_almost = L_cross_r.T / R_prime_abs[:,i,i,i].T\n",
    "        B = np.sum(B_almost, axis=0)\n",
    "    return B"
   ]
  },
  {
   "cell_type": "code",
   "execution_count": 88,
   "metadata": {},
   "outputs": [],
   "source": [
    "B_field = B(L, Dist_V, Dist)"
   ]
  },
  {
   "cell_type": "code",
   "execution_count": 89,
   "metadata": {},
   "outputs": [
    {
     "data": {
      "text/plain": [
       "(5,)"
      ]
     },
     "execution_count": 89,
     "metadata": {},
     "output_type": "execute_result"
    }
   ],
   "source": [
    "np.shape(B_field)"
   ]
  },
  {
   "cell_type": "code",
   "execution_count": null,
   "metadata": {},
   "outputs": [],
   "source": []
  }
 ],
 "metadata": {
  "kernelspec": {
   "display_name": "Python 3",
   "language": "python",
   "name": "python3"
  },
  "language_info": {
   "codemirror_mode": {
    "name": "ipython",
    "version": 3
   },
   "file_extension": ".py",
   "mimetype": "text/x-python",
   "name": "python",
   "nbconvert_exporter": "python",
   "pygments_lexer": "ipython3",
   "version": "3.7.2"
  }
 },
 "nbformat": 4,
 "nbformat_minor": 2
}
