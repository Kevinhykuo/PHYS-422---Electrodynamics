{
 "cells": [
  {
   "cell_type": "markdown",
   "metadata": {},
   "source": [
    "# Assignment 2"
   ]
  },
  {
   "cell_type": "code",
   "execution_count": 2,
   "metadata": {},
   "outputs": [],
   "source": [
    "import numpy as np\n",
    "import scipy as sp\n",
    "import matplotlib as mp\n",
    "import matplotlib.pyplot as plt\n",
    "\n",
    "from scipy.integrate import quad, dblquad\n",
    "from textwrap import wrap\n",
    "\n",
    "%matplotlib inline\n",
    "%config InlineBackend.figure_format = 'pdf'"
   ]
  },
  {
   "cell_type": "markdown",
   "metadata": {},
   "source": [
    "## Question 5"
   ]
  },
  {
   "cell_type": "markdown",
   "metadata": {},
   "source": [
    "### (a)\n",
    "\n",
    "We have a loop of radius $10$cm lying in the xy-plane with current of $I$ flowing.\n",
    "\n",
    "To calculate the magnetic field produced by this loop we use the Biot-Savart Law:\n",
    "\n",
    "$$\\vec{B}(\\vec{r}) = \\frac{\\mu_0 I}{4 \\pi} \\int \\frac{\\text{d}l \\times \\hat{r'}}{r'^2}$$\n",
    "\n",
    "$$\\text{where} \\left\\{ \\begin{array}{ll}\n",
    "            \\vec{r}  & \\text{is the position vector of the point of evaluation} \\\\\n",
    "            \\vec{r'} & \\text{is the displacement vector from a point in the current loop to the point of evaluation} \\\\\n",
    "            l        & \\text{is the length of the current loop} \\\\\n",
    "            \\end{array} \\right.$$      \n",
    "            "
   ]
  },
  {
   "cell_type": "markdown",
   "metadata": {},
   "source": [
    "**Let:**\n",
    "\n",
    ">Radius of the current loop: $R$\n",
    "\n",
    ">Positions of elements on the loop: $\\vec{R}$\n",
    "\n",
    ">Angle from the center of the current loop to an element: $\\theta$ \n",
    "\n",
    ">Line segment of the current loop: $l$\n",
    "\n",
    ">Locations in space: $\\vec{r} = (x, y, z)$"
   ]
  },
  {
   "cell_type": "markdown",
   "metadata": {},
   "source": [
    "**Then:**\n",
    "$$\\vec{R} = [R\\cos(\\theta),\\ y-R\\sin(\\theta), \\ z]$$\n",
    "\n",
    "$$\\text{d}l = R \\ \\text{d} \\theta \\ \\hat{\\theta} = [-R \\sin(\\theta), \\ R \\cos(\\theta), \\ 0] \\ \\text{d}\\theta$$\n",
    "\n",
    "$$\\vec{r'} = \\vec{r} - \\vec{R} = [x-R\\cos(\\theta), \\ y-R\\sin(\\theta), \\ z]$$\n",
    "\n",
    "**Taking the cross product:**\n",
    "\\begin{align}\n",
    "\\text{d}l \\times \\vec{r'} &= zR\\cos(\\theta) \\ \\hat{x} + zR\\sin(\\theta) \\ \\hat{y} + [-R\\sin(\\theta)(y-R\\sin(\\theta)) - R\\cos(\\theta)(x-R\\cos(\\theta))] \\ \\hat{z} \\ \\text{d}\\theta\\\\\n",
    "&= zR\\cos(\\theta) \\ \\hat{x} + zR\\sin(\\theta) \\ \\hat{y} + [-yR\\sin(\\theta)-xR\\cos(\\theta) + R^2] \\hat{z} \\ \\text{d}\\theta \n",
    "\\end{align}\n",
    "\n",
    "**The term inside the intergral:**\n",
    "\\begin{align}\n",
    "\\frac{\\text{d}l \\times \\vec{r'}}{r'^2} &= \\frac{zR\\cos(\\theta) \\ \\hat{x} + zR\\sin(\\theta) \\ \\hat{y} + [-yR\\sin(\\theta)-xR\\cos(\\theta) + R^2] \\hat{z}}{\\left\\{[x-R\\cos(\\theta)]^2 + [y-R\\sin(\\theta)]^2 + z^2 \\right\\}^\\frac{3}{2}}\n",
    "\\end{align}\n",
    "\n",
    "**The magnetic field:**\n",
    "$$\\vec{B}(\\vec{r}) = \\frac{\\mu_0 I}{4 \\pi} \\int \\text{d}\\theta \\ \\frac{zR\\cos(\\theta) \\ \\hat{x} + zR\\sin(\\theta) \\ \\hat{y} + [-yR\\sin(\\theta)-xR\\cos(\\theta) + R^2] \\hat{z}}{\\left\\{[x-R\\cos(\\theta)]^2 + [y-R\\sin(\\theta)]^2 + z^2 \\right\\}^\\frac{3}{2} }$$\n",
    "\n",
    "**Make it dimensionless:**\n",
    "$$\\vec{B}(\\vec{r}) \\frac{4 \\pi}{\\mu_0 I}  = \\int \\text{d}\\theta \\ \\frac{\\frac{z}{R}\\cos(\\theta) \\ \\hat{x} + \\frac{z}{R}\\sin(\\theta) \\ \\hat{y} - \\left[\\frac{y}{R}\\sin(\\theta) + \\frac{x}{R}\\cos(\\theta) - 1\\right] \\hat{z}}{\\left\\{ \\left[\\frac{x}{R}-\\cos(\\theta)\\right]^2 + \\left[\\frac{y}{R}-\\sin(\\theta)\\right]^2 + \\left(\\frac{z}{R}\\right)^2 \\right\\}^\\frac{3}{2} }$$"
   ]
  },
  {
   "cell_type": "markdown",
   "metadata": {},
   "source": [
    "**Turn the magnetic field into code:**"
   ]
  },
  {
   "cell_type": "code",
   "execution_count": 3,
   "metadata": {},
   "outputs": [],
   "source": [
    "# Magnetic fields in x\n",
    "def integrand_x(x, y, z, theta, R=1):\n",
    "    r = ((x/R - np.cos(theta))**2 + (y/R - np.sin(theta))**2 + (z/R)**2)**.5\n",
    "    Bx = (z/R)*np.cos(theta) / r**3\n",
    "    return Bx\n",
    "\n",
    "@np.vectorize\n",
    "def Bx(x, y, z, R=1):\n",
    "    B_x = quad(lambda theta: integrand_x(x, y, z, theta, R), 0, 2*np.pi)\n",
    "    return B_x[0]\n",
    "\n",
    "# Magnetic fields in y\n",
    "def integrand_y(x, y, z, theta, R=1):\n",
    "    r = ((x/R - np.cos(theta))**2 + (y/R - np.sin(theta))**2 + (z/R)**2)**.5\n",
    "    By = (z/R)*np.sin(theta) / r**3\n",
    "    return By\n",
    "\n",
    "@np.vectorize\n",
    "def By(x, y, z, R=1):\n",
    "    B_y = quad(lambda theta: integrand_y(x, y, z, theta, R), 0, 2*np.pi)\n",
    "    return B_y[0]\n",
    "\n",
    "# Magnetic fields in z\n",
    "def integrand_z(x, y, z, theta, R=1):\n",
    "    r = ((x/R - np.cos(theta))**2 + (y/R - np.sin(theta))**2 + (z/R)**2)**.5\n",
    "    Bz = -( (y/R)*np.sin(theta) + (x/R)*np.cos(theta) - 1) / r**3\n",
    "    return Bz\n",
    "\n",
    "@np.vectorize\n",
    "def Bz(x, y, z, R=1):\n",
    "    B_z = quad(lambda theta: integrand_z(x, y, z, theta, R), 0, 2*np.pi)\n",
    "    return B_z[0]"
   ]
  },
  {
   "cell_type": "code",
   "execution_count": 4,
   "metadata": {},
   "outputs": [],
   "source": [
    "# Create a meshgrid for the space of integration\n",
    "# ==============================================\n",
    "\n",
    "# Dimesions and resolution for the meshgrid \n",
    "r_max = 2\n",
    "r_min = -2\n",
    "res = 200\n",
    "\n",
    "x = np.linspace(r_min, r_max, res)\n",
    "y = np.linspace(r_min, r_max, res)\n",
    "z = np.linspace(r_min, r_max, res)\n",
    "\n",
    "GX, GY, GZ = np.meshgrid(x, y, z)"
   ]
  },
  {
   "cell_type": "code",
   "execution_count": 4,
   "metadata": {},
   "outputs": [
    {
     "ename": "KeyboardInterrupt",
     "evalue": "",
     "output_type": "error",
     "traceback": [
      "\u001b[0;31m---------------------------------------------------------------------------\u001b[0m",
      "\u001b[0;31mKeyboardInterrupt\u001b[0m                         Traceback (most recent call last)",
      "\u001b[0;32m<timed exec>\u001b[0m in \u001b[0;36m<module>\u001b[0;34m\u001b[0m\n",
      "\u001b[0;32m~/anaconda3/lib/python3.7/site-packages/numpy/lib/function_base.py\u001b[0m in \u001b[0;36m__call__\u001b[0;34m(self, *args, **kwargs)\u001b[0m\n\u001b[1;32m   1970\u001b[0m             \u001b[0mvargs\u001b[0m\u001b[0;34m.\u001b[0m\u001b[0mextend\u001b[0m\u001b[0;34m(\u001b[0m\u001b[0;34m[\u001b[0m\u001b[0mkwargs\u001b[0m\u001b[0;34m[\u001b[0m\u001b[0m_n\u001b[0m\u001b[0;34m]\u001b[0m \u001b[0;32mfor\u001b[0m \u001b[0m_n\u001b[0m \u001b[0;32min\u001b[0m \u001b[0mnames\u001b[0m\u001b[0;34m]\u001b[0m\u001b[0;34m)\u001b[0m\u001b[0;34m\u001b[0m\u001b[0;34m\u001b[0m\u001b[0m\n\u001b[1;32m   1971\u001b[0m \u001b[0;34m\u001b[0m\u001b[0m\n\u001b[0;32m-> 1972\u001b[0;31m         \u001b[0;32mreturn\u001b[0m \u001b[0mself\u001b[0m\u001b[0;34m.\u001b[0m\u001b[0m_vectorize_call\u001b[0m\u001b[0;34m(\u001b[0m\u001b[0mfunc\u001b[0m\u001b[0;34m=\u001b[0m\u001b[0mfunc\u001b[0m\u001b[0;34m,\u001b[0m \u001b[0margs\u001b[0m\u001b[0;34m=\u001b[0m\u001b[0mvargs\u001b[0m\u001b[0;34m)\u001b[0m\u001b[0;34m\u001b[0m\u001b[0;34m\u001b[0m\u001b[0m\n\u001b[0m\u001b[1;32m   1973\u001b[0m \u001b[0;34m\u001b[0m\u001b[0m\n\u001b[1;32m   1974\u001b[0m     \u001b[0;32mdef\u001b[0m \u001b[0m_get_ufunc_and_otypes\u001b[0m\u001b[0;34m(\u001b[0m\u001b[0mself\u001b[0m\u001b[0;34m,\u001b[0m \u001b[0mfunc\u001b[0m\u001b[0;34m,\u001b[0m \u001b[0margs\u001b[0m\u001b[0;34m)\u001b[0m\u001b[0;34m:\u001b[0m\u001b[0;34m\u001b[0m\u001b[0;34m\u001b[0m\u001b[0m\n",
      "\u001b[0;32m~/anaconda3/lib/python3.7/site-packages/numpy/lib/function_base.py\u001b[0m in \u001b[0;36m_vectorize_call\u001b[0;34m(self, func, args)\u001b[0m\n\u001b[1;32m   2046\u001b[0m                       for a in args]\n\u001b[1;32m   2047\u001b[0m \u001b[0;34m\u001b[0m\u001b[0m\n\u001b[0;32m-> 2048\u001b[0;31m             \u001b[0moutputs\u001b[0m \u001b[0;34m=\u001b[0m \u001b[0mufunc\u001b[0m\u001b[0;34m(\u001b[0m\u001b[0;34m*\u001b[0m\u001b[0minputs\u001b[0m\u001b[0;34m)\u001b[0m\u001b[0;34m\u001b[0m\u001b[0;34m\u001b[0m\u001b[0m\n\u001b[0m\u001b[1;32m   2049\u001b[0m \u001b[0;34m\u001b[0m\u001b[0m\n\u001b[1;32m   2050\u001b[0m             \u001b[0;32mif\u001b[0m \u001b[0mufunc\u001b[0m\u001b[0;34m.\u001b[0m\u001b[0mnout\u001b[0m \u001b[0;34m==\u001b[0m \u001b[0;36m1\u001b[0m\u001b[0;34m:\u001b[0m\u001b[0;34m\u001b[0m\u001b[0;34m\u001b[0m\u001b[0m\n",
      "\u001b[0;32m<ipython-input-2-bae0273f8067>\u001b[0m in \u001b[0;36mBy\u001b[0;34m(x, y, z, R)\u001b[0m\n\u001b[1;32m     18\u001b[0m \u001b[0;34m@\u001b[0m\u001b[0mnp\u001b[0m\u001b[0;34m.\u001b[0m\u001b[0mvectorize\u001b[0m\u001b[0;34m\u001b[0m\u001b[0;34m\u001b[0m\u001b[0m\n\u001b[1;32m     19\u001b[0m \u001b[0;32mdef\u001b[0m \u001b[0mBy\u001b[0m\u001b[0;34m(\u001b[0m\u001b[0mx\u001b[0m\u001b[0;34m,\u001b[0m \u001b[0my\u001b[0m\u001b[0;34m,\u001b[0m \u001b[0mz\u001b[0m\u001b[0;34m,\u001b[0m \u001b[0mR\u001b[0m\u001b[0;34m=\u001b[0m\u001b[0;36m1\u001b[0m\u001b[0;34m)\u001b[0m\u001b[0;34m:\u001b[0m\u001b[0;34m\u001b[0m\u001b[0;34m\u001b[0m\u001b[0m\n\u001b[0;32m---> 20\u001b[0;31m     \u001b[0mB_y\u001b[0m \u001b[0;34m=\u001b[0m \u001b[0mquad\u001b[0m\u001b[0;34m(\u001b[0m\u001b[0;32mlambda\u001b[0m \u001b[0mtheta\u001b[0m\u001b[0;34m:\u001b[0m \u001b[0mintegrand_y\u001b[0m\u001b[0;34m(\u001b[0m\u001b[0mx\u001b[0m\u001b[0;34m,\u001b[0m \u001b[0my\u001b[0m\u001b[0;34m,\u001b[0m \u001b[0mz\u001b[0m\u001b[0;34m,\u001b[0m \u001b[0mtheta\u001b[0m\u001b[0;34m,\u001b[0m \u001b[0mR\u001b[0m\u001b[0;34m)\u001b[0m\u001b[0;34m,\u001b[0m \u001b[0;36m0\u001b[0m\u001b[0;34m,\u001b[0m \u001b[0;36m2\u001b[0m\u001b[0;34m*\u001b[0m\u001b[0mnp\u001b[0m\u001b[0;34m.\u001b[0m\u001b[0mpi\u001b[0m\u001b[0;34m)\u001b[0m\u001b[0;34m\u001b[0m\u001b[0;34m\u001b[0m\u001b[0m\n\u001b[0m\u001b[1;32m     21\u001b[0m     \u001b[0;32mreturn\u001b[0m \u001b[0mB_y\u001b[0m\u001b[0;34m[\u001b[0m\u001b[0;36m0\u001b[0m\u001b[0;34m]\u001b[0m\u001b[0;34m\u001b[0m\u001b[0;34m\u001b[0m\u001b[0m\n\u001b[1;32m     22\u001b[0m \u001b[0;34m\u001b[0m\u001b[0m\n",
      "\u001b[0;32m~/anaconda3/lib/python3.7/site-packages/scipy/integrate/quadpack.py\u001b[0m in \u001b[0;36mquad\u001b[0;34m(func, a, b, args, full_output, epsabs, epsrel, limit, points, weight, wvar, wopts, maxp1, limlst)\u001b[0m\n\u001b[1;32m    339\u001b[0m     \u001b[0;32mif\u001b[0m \u001b[0mweight\u001b[0m \u001b[0;32mis\u001b[0m \u001b[0;32mNone\u001b[0m\u001b[0;34m:\u001b[0m\u001b[0;34m\u001b[0m\u001b[0;34m\u001b[0m\u001b[0m\n\u001b[1;32m    340\u001b[0m         retval = _quad(func, a, b, args, full_output, epsabs, epsrel, limit,\n\u001b[0;32m--> 341\u001b[0;31m                        points)\n\u001b[0m\u001b[1;32m    342\u001b[0m     \u001b[0;32melse\u001b[0m\u001b[0;34m:\u001b[0m\u001b[0;34m\u001b[0m\u001b[0;34m\u001b[0m\u001b[0m\n\u001b[1;32m    343\u001b[0m         retval = _quad_weight(func, a, b, args, full_output, epsabs, epsrel,\n",
      "\u001b[0;32m~/anaconda3/lib/python3.7/site-packages/scipy/integrate/quadpack.py\u001b[0m in \u001b[0;36m_quad\u001b[0;34m(func, a, b, args, full_output, epsabs, epsrel, limit, points)\u001b[0m\n\u001b[1;32m    446\u001b[0m     \u001b[0;32mif\u001b[0m \u001b[0mpoints\u001b[0m \u001b[0;32mis\u001b[0m \u001b[0;32mNone\u001b[0m\u001b[0;34m:\u001b[0m\u001b[0;34m\u001b[0m\u001b[0;34m\u001b[0m\u001b[0m\n\u001b[1;32m    447\u001b[0m         \u001b[0;32mif\u001b[0m \u001b[0minfbounds\u001b[0m \u001b[0;34m==\u001b[0m \u001b[0;36m0\u001b[0m\u001b[0;34m:\u001b[0m\u001b[0;34m\u001b[0m\u001b[0;34m\u001b[0m\u001b[0m\n\u001b[0;32m--> 448\u001b[0;31m             \u001b[0;32mreturn\u001b[0m \u001b[0m_quadpack\u001b[0m\u001b[0;34m.\u001b[0m\u001b[0m_qagse\u001b[0m\u001b[0;34m(\u001b[0m\u001b[0mfunc\u001b[0m\u001b[0;34m,\u001b[0m\u001b[0ma\u001b[0m\u001b[0;34m,\u001b[0m\u001b[0mb\u001b[0m\u001b[0;34m,\u001b[0m\u001b[0margs\u001b[0m\u001b[0;34m,\u001b[0m\u001b[0mfull_output\u001b[0m\u001b[0;34m,\u001b[0m\u001b[0mepsabs\u001b[0m\u001b[0;34m,\u001b[0m\u001b[0mepsrel\u001b[0m\u001b[0;34m,\u001b[0m\u001b[0mlimit\u001b[0m\u001b[0;34m)\u001b[0m\u001b[0;34m\u001b[0m\u001b[0;34m\u001b[0m\u001b[0m\n\u001b[0m\u001b[1;32m    449\u001b[0m         \u001b[0;32melse\u001b[0m\u001b[0;34m:\u001b[0m\u001b[0;34m\u001b[0m\u001b[0;34m\u001b[0m\u001b[0m\n\u001b[1;32m    450\u001b[0m             \u001b[0;32mreturn\u001b[0m \u001b[0m_quadpack\u001b[0m\u001b[0;34m.\u001b[0m\u001b[0m_qagie\u001b[0m\u001b[0;34m(\u001b[0m\u001b[0mfunc\u001b[0m\u001b[0;34m,\u001b[0m\u001b[0mbound\u001b[0m\u001b[0;34m,\u001b[0m\u001b[0minfbounds\u001b[0m\u001b[0;34m,\u001b[0m\u001b[0margs\u001b[0m\u001b[0;34m,\u001b[0m\u001b[0mfull_output\u001b[0m\u001b[0;34m,\u001b[0m\u001b[0mepsabs\u001b[0m\u001b[0;34m,\u001b[0m\u001b[0mepsrel\u001b[0m\u001b[0;34m,\u001b[0m\u001b[0mlimit\u001b[0m\u001b[0;34m)\u001b[0m\u001b[0;34m\u001b[0m\u001b[0;34m\u001b[0m\u001b[0m\n",
      "\u001b[0;32m<ipython-input-2-bae0273f8067>\u001b[0m in \u001b[0;36m<lambda>\u001b[0;34m(theta)\u001b[0m\n\u001b[1;32m     18\u001b[0m \u001b[0;34m@\u001b[0m\u001b[0mnp\u001b[0m\u001b[0;34m.\u001b[0m\u001b[0mvectorize\u001b[0m\u001b[0;34m\u001b[0m\u001b[0;34m\u001b[0m\u001b[0m\n\u001b[1;32m     19\u001b[0m \u001b[0;32mdef\u001b[0m \u001b[0mBy\u001b[0m\u001b[0;34m(\u001b[0m\u001b[0mx\u001b[0m\u001b[0;34m,\u001b[0m \u001b[0my\u001b[0m\u001b[0;34m,\u001b[0m \u001b[0mz\u001b[0m\u001b[0;34m,\u001b[0m \u001b[0mR\u001b[0m\u001b[0;34m=\u001b[0m\u001b[0;36m1\u001b[0m\u001b[0;34m)\u001b[0m\u001b[0;34m:\u001b[0m\u001b[0;34m\u001b[0m\u001b[0;34m\u001b[0m\u001b[0m\n\u001b[0;32m---> 20\u001b[0;31m     \u001b[0mB_y\u001b[0m \u001b[0;34m=\u001b[0m \u001b[0mquad\u001b[0m\u001b[0;34m(\u001b[0m\u001b[0;32mlambda\u001b[0m \u001b[0mtheta\u001b[0m\u001b[0;34m:\u001b[0m \u001b[0mintegrand_y\u001b[0m\u001b[0;34m(\u001b[0m\u001b[0mx\u001b[0m\u001b[0;34m,\u001b[0m \u001b[0my\u001b[0m\u001b[0;34m,\u001b[0m \u001b[0mz\u001b[0m\u001b[0;34m,\u001b[0m \u001b[0mtheta\u001b[0m\u001b[0;34m,\u001b[0m \u001b[0mR\u001b[0m\u001b[0;34m)\u001b[0m\u001b[0;34m,\u001b[0m \u001b[0;36m0\u001b[0m\u001b[0;34m,\u001b[0m \u001b[0;36m2\u001b[0m\u001b[0;34m*\u001b[0m\u001b[0mnp\u001b[0m\u001b[0;34m.\u001b[0m\u001b[0mpi\u001b[0m\u001b[0;34m)\u001b[0m\u001b[0;34m\u001b[0m\u001b[0;34m\u001b[0m\u001b[0m\n\u001b[0m\u001b[1;32m     21\u001b[0m     \u001b[0;32mreturn\u001b[0m \u001b[0mB_y\u001b[0m\u001b[0;34m[\u001b[0m\u001b[0;36m0\u001b[0m\u001b[0;34m]\u001b[0m\u001b[0;34m\u001b[0m\u001b[0;34m\u001b[0m\u001b[0m\n\u001b[1;32m     22\u001b[0m \u001b[0;34m\u001b[0m\u001b[0m\n",
      "\u001b[0;32m<ipython-input-2-bae0273f8067>\u001b[0m in \u001b[0;36mintegrand_y\u001b[0;34m(x, y, z, theta, R)\u001b[0m\n\u001b[1;32m     12\u001b[0m \u001b[0;31m# Magnetic fields in y\u001b[0m\u001b[0;34m\u001b[0m\u001b[0;34m\u001b[0m\u001b[0;34m\u001b[0m\u001b[0m\n\u001b[1;32m     13\u001b[0m \u001b[0;32mdef\u001b[0m \u001b[0mintegrand_y\u001b[0m\u001b[0;34m(\u001b[0m\u001b[0mx\u001b[0m\u001b[0;34m,\u001b[0m \u001b[0my\u001b[0m\u001b[0;34m,\u001b[0m \u001b[0mz\u001b[0m\u001b[0;34m,\u001b[0m \u001b[0mtheta\u001b[0m\u001b[0;34m,\u001b[0m \u001b[0mR\u001b[0m\u001b[0;34m=\u001b[0m\u001b[0;36m1\u001b[0m\u001b[0;34m)\u001b[0m\u001b[0;34m:\u001b[0m\u001b[0;34m\u001b[0m\u001b[0;34m\u001b[0m\u001b[0m\n\u001b[0;32m---> 14\u001b[0;31m     \u001b[0mr\u001b[0m \u001b[0;34m=\u001b[0m \u001b[0;34m(\u001b[0m\u001b[0;34m(\u001b[0m\u001b[0mx\u001b[0m\u001b[0;34m/\u001b[0m\u001b[0mR\u001b[0m \u001b[0;34m-\u001b[0m \u001b[0mnp\u001b[0m\u001b[0;34m.\u001b[0m\u001b[0mcos\u001b[0m\u001b[0;34m(\u001b[0m\u001b[0mtheta\u001b[0m\u001b[0;34m)\u001b[0m\u001b[0;34m)\u001b[0m\u001b[0;34m**\u001b[0m\u001b[0;36m2\u001b[0m \u001b[0;34m+\u001b[0m \u001b[0;34m(\u001b[0m\u001b[0my\u001b[0m\u001b[0;34m/\u001b[0m\u001b[0mR\u001b[0m \u001b[0;34m-\u001b[0m \u001b[0mnp\u001b[0m\u001b[0;34m.\u001b[0m\u001b[0msin\u001b[0m\u001b[0;34m(\u001b[0m\u001b[0mtheta\u001b[0m\u001b[0;34m)\u001b[0m\u001b[0;34m)\u001b[0m\u001b[0;34m**\u001b[0m\u001b[0;36m2\u001b[0m \u001b[0;34m+\u001b[0m \u001b[0;34m(\u001b[0m\u001b[0mz\u001b[0m\u001b[0;34m/\u001b[0m\u001b[0mR\u001b[0m\u001b[0;34m)\u001b[0m\u001b[0;34m**\u001b[0m\u001b[0;36m2\u001b[0m\u001b[0;34m)\u001b[0m\u001b[0;34m**\u001b[0m\u001b[0;36m.5\u001b[0m\u001b[0;34m\u001b[0m\u001b[0;34m\u001b[0m\u001b[0m\n\u001b[0m\u001b[1;32m     15\u001b[0m     \u001b[0mBy\u001b[0m \u001b[0;34m=\u001b[0m \u001b[0;34m(\u001b[0m\u001b[0mz\u001b[0m\u001b[0;34m/\u001b[0m\u001b[0mR\u001b[0m\u001b[0;34m)\u001b[0m\u001b[0;34m*\u001b[0m\u001b[0mnp\u001b[0m\u001b[0;34m.\u001b[0m\u001b[0msin\u001b[0m\u001b[0;34m(\u001b[0m\u001b[0mtheta\u001b[0m\u001b[0;34m)\u001b[0m \u001b[0;34m/\u001b[0m \u001b[0mr\u001b[0m\u001b[0;34m**\u001b[0m\u001b[0;36m3\u001b[0m\u001b[0;34m\u001b[0m\u001b[0;34m\u001b[0m\u001b[0m\n\u001b[1;32m     16\u001b[0m     \u001b[0;32mreturn\u001b[0m \u001b[0mBy\u001b[0m\u001b[0;34m\u001b[0m\u001b[0;34m\u001b[0m\u001b[0m\n",
      "\u001b[0;31mKeyboardInterrupt\u001b[0m: "
     ]
    }
   ],
   "source": [
    "%%time\n",
    "\n",
    "# Find the magnetic fields\n",
    "# ========================\n",
    "\n",
    "B_x = Bx(GX, GY, GZ, 1)\n",
    "B_y = By(GX, GY, GZ, 1)\n",
    "B_z = Bz(GX, GY, GZ, 1)"
   ]
  },
  {
   "cell_type": "code",
   "execution_count": 5,
   "metadata": {},
   "outputs": [
    {
     "ename": "NameError",
     "evalue": "name 'B_y' is not defined",
     "output_type": "error",
     "traceback": [
      "\u001b[0;31m---------------------------------------------------------------------------\u001b[0m",
      "\u001b[0;31mNameError\u001b[0m                                 Traceback (most recent call last)",
      "\u001b[0;32m<ipython-input-5-57afbb544df3>\u001b[0m in \u001b[0;36m<module>\u001b[0;34m\u001b[0m\n\u001b[1;32m      4\u001b[0m \u001b[0mfig\u001b[0m\u001b[0;34m,\u001b[0m \u001b[0max\u001b[0m \u001b[0;34m=\u001b[0m \u001b[0mplt\u001b[0m\u001b[0;34m.\u001b[0m\u001b[0msubplots\u001b[0m\u001b[0;34m(\u001b[0m\u001b[0mfigsize\u001b[0m\u001b[0;34m=\u001b[0m\u001b[0;34m(\u001b[0m\u001b[0;36m7\u001b[0m\u001b[0;34m,\u001b[0m \u001b[0;36m5\u001b[0m\u001b[0;34m)\u001b[0m\u001b[0;34m)\u001b[0m\u001b[0;34m\u001b[0m\u001b[0;34m\u001b[0m\u001b[0m\n\u001b[1;32m      5\u001b[0m \u001b[0;34m\u001b[0m\u001b[0m\n\u001b[0;32m----> 6\u001b[0;31m \u001b[0mnorm\u001b[0m \u001b[0;34m=\u001b[0m \u001b[0;34m(\u001b[0m\u001b[0mB_x\u001b[0m\u001b[0;34m**\u001b[0m\u001b[0;36m2\u001b[0m \u001b[0;34m+\u001b[0m \u001b[0mB_y\u001b[0m\u001b[0;34m**\u001b[0m\u001b[0;36m2\u001b[0m \u001b[0;34m+\u001b[0m \u001b[0mB_z\u001b[0m\u001b[0;34m**\u001b[0m\u001b[0;36m2\u001b[0m\u001b[0;34m)\u001b[0m\u001b[0;34m**\u001b[0m\u001b[0;36m0.5\u001b[0m\u001b[0;34m\u001b[0m\u001b[0;34m\u001b[0m\u001b[0m\n\u001b[0m\u001b[1;32m      7\u001b[0m \u001b[0;34m\u001b[0m\u001b[0m\n\u001b[1;32m      8\u001b[0m \u001b[0mGraph\u001b[0m \u001b[0;34m=\u001b[0m \u001b[0max\u001b[0m\u001b[0;34m.\u001b[0m\u001b[0mpcolormesh\u001b[0m\u001b[0;34m(\u001b[0m\u001b[0mx\u001b[0m\u001b[0;34m,\u001b[0m \u001b[0mz\u001b[0m\u001b[0;34m,\u001b[0m \u001b[0mnorm\u001b[0m\u001b[0;34m,\u001b[0m \u001b[0mcmap\u001b[0m\u001b[0;34m=\u001b[0m\u001b[0;34m'inferno_r'\u001b[0m\u001b[0;34m,\u001b[0m \u001b[0mvmax\u001b[0m\u001b[0;34m=\u001b[0m\u001b[0;36m25\u001b[0m\u001b[0;34m)\u001b[0m\u001b[0;34m\u001b[0m\u001b[0;34m\u001b[0m\u001b[0m\n",
      "\u001b[0;31mNameError\u001b[0m: name 'B_y' is not defined"
     ]
    },
    {
     "data": {
      "application/pdf": "[encoded data removed]",
      "text/plain": [
       "<Figure size 504x360 with 1 Axes>"
      ]
     },
     "metadata": {
      "needs_background": "light"
     },
     "output_type": "display_data"
    }
   ],
   "source": [
    "# Plot it out\n",
    "# ===========\n",
    "\n",
    "fig, ax = plt.subplots(figsize=(7, 5))\n",
    "\n",
    "norm = (B_x**2 + B_y**2 + B_z**2)**0.5\n",
    "\n",
    "Graph = ax.pcolormesh(x, z, norm, cmap='inferno_r', vmax=25)\n",
    "ax.streamplot(x, z, B_x, B_z, linewidth=0.75,\n",
    "             density=1.5, arrowstyle='->', arrowsize=1)\n",
    "\n",
    "# ax.quiver(x, z, B_x/norm, B_z/norm, linewidth=0.75, pivot='mid')\n",
    "# Graph = ax.imshow(E[2], extent=(-2, 2, -2, 2), vmax=100, cmap='inferno_r')\n",
    "\n",
    "ax.set_xlim(-2, 2)\n",
    "ax.set_ylim(-2, 2)\n",
    "ax.set_xlabel(r'Distance ($\\hat{x}$) [dm]', fontsize=12)\n",
    "ax.set_ylabel(r'Distance ($\\hat{z}$) [dm]', fontsize=12)\n",
    "ax.set_title('Magnetic field of a current loop in the xz-plane', fontsize=14)\n",
    "\n",
    "cbar = fig.colorbar(Graph, shrink=1, aspect=20)\n",
    "cbar.ax.set_ylabel(r'$\\left| \\vec{B} \\right|$ $\\left[\\frac{4 \\pi}{\\mu_0 I}\\right]$', \n",
    "                  rotation=0, fontsize=16, labelpad=40)\n",
    "\n",
    "caption = r\"Magnetic field of a current loop located in the xy-plane traveling counterclockwise. The heat map of field magnitude has a max cutoff value at $25 \\frac{4 \\pi}{\\mu_0 I}$ for display purposes, but higher values exist. \"\n",
    "fig.text(0.05, -0.15, \"\\n\".join(wrap(caption, 75)), ha='left', fontsize=12, wrap=False)\n",
    "\n",
    "plt.show()"
   ]
  },
  {
   "cell_type": "markdown",
   "metadata": {},
   "source": [
    "\\newpage \n",
    "\n",
    "### (b)\n",
    "Please see attached hand written page for diagram\n",
    "\n",
    "Here we have a small rotating loop of radius $5$cm located $12$cm away from the original loop on the $\\hat{z}$ axis. \n",
    "\n",
    "**Let:**\n",
    "\n",
    "> Radius of the small loop: $s$\n",
    "\n",
    "> Position of elements in the small loop: $\\vec{S}$\n",
    "\n",
    "> Distance of the small loop from the original loop: $z_0 \\ \\hat{z}$\n",
    "\n",
    "> Rate at which the small loop is rotating: $\\omega t \\ \\hat{x}$\n",
    "\n",
    "> Radial unit vector in the small loop: $\\hat{s}$\n",
    "\n",
    "> Azimuthal angle between the $x$-axis and $\\hat{s}$: $\\phi$\n",
    "\n",
    "> Normal vector to the surface enclosed by the small current loop: $\\hat{n}$\n",
    "\n",
    "> Polar angle between $\\hat{n}$ and the $z$-axis: $\\varphi$\n",
    "\n",
    "> Displacement vector from an element in the original loop to an element in the small loop: $\\vec{r''}$\n",
    "\n",
    "From inspecting the diagram, we can see that: \n",
    "\n",
    "> $\\hat{s} = \\cos{\\phi}\\hat{x} + \\sin{\\phi}\\sin{\\varphi} \\hat{y} + \\sin{\\phi}\\cos{\\varphi} \\hat{z}$\n",
    "\n",
    "> $\\hat{n} = \\sin{\\varphi}\\hat{y} + \\cos{\\varphi}\\hat{z}$\n",
    "\n",
    "> $\\vec{S} = S\\cos{\\phi}\\hat{x} + S\\sin{\\phi}\\sin{\\varphi} \\hat{y} + [S\\sin{\\phi}\\cos{\\varphi} + z_0] \\hat{z}$\n",
    "\n",
    "> $\\vec{r''} = \\vec{S} - \\vec{R} = [S\\cos{\\phi} - R\\cos{\\theta}, \\ S\\sin{\\phi}\\sin{\\varphi} - R\\sin{\\theta},\\ S\\sin{\\phi}\\cos{\\varphi} + z_0]$\n",
    "\n",
    "Since the loop is rotating along the $\\hat{x}$, we can conclude:\n",
    "\n",
    "> $\\varphi = \\omega t$"
   ]
  },
  {
   "cell_type": "markdown",
   "metadata": {},
   "source": [
    "**Current induced in the loop:**\n",
    "\n",
    "\\begin{align}\n",
    "I &= \\int_0^{2\\pi} \\int_0^s \\vec{B} \\cdot \\text{d} \\vec{a} \\\\\n",
    "  &= \\int_0^{2\\pi} \\int_0^s \\vec{B} \\cdot \\hat{n} \\ s \\ \\text{d}s \\ \\text{d} \\phi\n",
    "\\end{align}"
   ]
  },
  {
   "cell_type": "markdown",
   "metadata": {},
   "source": [
    "Code the current:"
   ]
  },
  {
   "cell_type": "code",
   "execution_count": 9,
   "metadata": {},
   "outputs": [],
   "source": [
    "@np.vectorize\n",
    "def B_norm(S, phi, Vphi, z_0=1.2):\n",
    "#     B_x = Bx(S*np.cos(phi), S*np.sin(phi)*np.cos(Vphi), S*np.sin(phi)*np.cos(Vphi)+z_0)\n",
    "    x = S*np.cos(phi)\n",
    "    y = S*np.sin(phi)*np.sin(Vphi)\n",
    "    z = S*np.sin(phi)*np.cos(Vphi) + z_0\n",
    "    \n",
    "    B = np.array([0, By(x, y, z), Bz(x, y, z)])\n",
    "    n = np.array([0, np.sin(Vphi), np.cos(Vphi)])\n",
    "    \n",
    "    Bn = np.dot(B, n)\n",
    "    return Bn\n",
    "\n",
    "@np.vectorize\n",
    "def current(R=1, s=0.5, z_0=1.2, Vphi=0.1*np.pi):\n",
    "    I = dblquad(lambda S, phi: B_norm(S, phi, Vphi)*S, 0, s, lambda phi: 0, lambda phi: 2*np.pi)\n",
    "    return I"
   ]
  },
  {
   "cell_type": "code",
   "execution_count": 10,
   "metadata": {},
   "outputs": [
    {
     "name": "stdout",
     "output_type": "stream",
     "text": [
      "CPU times: user 14min 52s, sys: 5 s, total: 14min 57s\n",
      "Wall time: 14min 56s\n"
     ]
    }
   ],
   "source": [
    "%%time\n",
    "\n",
    "VPhi = np.linspace(0, 2*np.pi, 100) \n",
    "I = current(Vphi = VPhi)"
   ]
  },
  {
   "cell_type": "code",
   "execution_count": 11,
   "metadata": {},
   "outputs": [
    {
     "data": {
      "application/pdf": "[encoded data removed]",
      "text/plain": [
       "<Figure size 576x432 with 1 Axes>"
      ]
     },
     "metadata": {
      "needs_background": "light"
     },
     "output_type": "display_data"
    }
   ],
   "source": [
    "fig2, ax2 = plt.subplots(1, 1, figsize=(8,6))\n",
    "\n",
    "ax2.plot(VPhi/(2*np.pi), I[0])\n",
    "ax2.grid()\n",
    "\n",
    "ax2.set_xlabel(r'Time [s]', fontsize=14)\n",
    "ax2.set_ylabel(r'Induced current $(I_{ind})$ $\\left[\\frac{4 \\pi}{\\mu_0 I s^2}\\right]$', fontsize=14)\n",
    "title2 = r'Induced current in the small loop above the current loop rotating at $2 \\pi$ rad/s'\n",
    "ax2.set_title(\"\\n\".join(wrap(title2, 60)), fontsize=16)\n",
    "\n",
    "plt.show()"
   ]
  },
  {
   "cell_type": "code",
   "execution_count": null,
   "metadata": {},
   "outputs": [],
   "source": []
  }
 ],
 "metadata": {
  "kernelspec": {
   "display_name": "Python 3",
   "language": "python",
   "name": "python3"
  },
  "language_info": {
   "codemirror_mode": {
    "name": "ipython",
    "version": 3
   },
   "file_extension": ".py",
   "mimetype": "text/x-python",
   "name": "python",
   "nbconvert_exporter": "python",
   "pygments_lexer": "ipython3",
   "version": "3.7.1"
  }
 },
 "nbformat": 4,
 "nbformat_minor": 2
}
