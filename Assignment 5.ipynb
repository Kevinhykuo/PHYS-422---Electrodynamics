{
 "cells": [
  {
   "cell_type": "markdown",
   "metadata": {},
   "source": [
    "# Assignment 5"
   ]
  },
  {
   "cell_type": "code",
   "execution_count": 1,
   "metadata": {},
   "outputs": [],
   "source": [
    "import numpy as np\n",
    "import matplotlib as mp\n",
    "import matplotlib.pyplot as plt\n",
    "import animatplot as amp\n",
    "\n",
    "from numpy import exp\n",
    "from textwrap import wrap"
   ]
  },
  {
   "cell_type": "markdown",
   "metadata": {},
   "source": [
    "## 6) COMPUTATION: Finite Difference Time Domain method (extended)"
   ]
  },
  {
   "cell_type": "code",
   "execution_count": 2,
   "metadata": {},
   "outputs": [],
   "source": [
    "x_space = np.arange(-400, 401, 1)"
   ]
  },
  {
   "cell_type": "code",
   "execution_count": 44,
   "metadata": {},
   "outputs": [],
   "source": [
    "t_max = 500\n",
    "imp0 = 377\n",
    "H_y = np.zeros((t_max, len(x_space)))\n",
    "E_z = np.zeros((t_max, len(x_space)))\n",
    "temp1 = np.zeros(len(x_space))\n",
    "temp2 = np.zeros(len(x_space))\n",
    "R = np.zeros(len(x_space)) + 1\n",
    "# muR = np.zeros(len(x_space)) + 1\n",
    "\n",
    "R[400-140] = R[400+140] = 5\n",
    "R[400-200] = R[400+200] = 10**10\n",
    "# muR[70] = 5\n",
    "\n",
    "for i in range(0, t_max, 1):\n",
    "    temp1[len(x_space)-1] = temp1[len(x_space)-2]\n",
    "    for j in range(0, len(x_space)-1, 1):\n",
    "        temp1[j] += (temp2[j+1] - temp2[j]) / imp0 / R[j]\n",
    "    \n",
    "    temp2[0] = temp2[1]\n",
    "    for j in range(1, len(x_space), 1):    \n",
    "        temp2[j] += (temp1[j] - temp1[j-1]) * imp0 / R[j]\n",
    "    \n",
    "    temp2[400] = exp(-(i-30)*(i-30)/100)\n",
    "    \n",
    "    E_z[i,:] = temp2[:]\n",
    "    H_y[i,:] = temp1[:]"
   ]
  },
  {
   "cell_type": "code",
   "execution_count": null,
   "metadata": {},
   "outputs": [],
   "source": [
    "plt.figure(figsize = (10, 20))\n",
    "for i in range(0, t_max, 10):\n",
    "    plt.plot(x_space/20, E_z[i, :] + i/5, color=\"b\", zorder=1, linewidth=1)\n",
    "    plt.plot(x_space/20, H_y[i, :]*100 + i/5, color=\"orange\", zorder=0, linewidth=1)\n",
    "    \n",
    "plt.legend((r'$|\\vec{E}|$ (normalized)', r'$|\\vec{B}|$ (relative to $|\\vec{E}| \\times 100$)'))\n",
    "plt.xlabel(r'Space [$\\sigma$]')\n",
    "plt.ylabel('Time [frame number]')\n",
    "plt.show()"
   ]
  },
  {
   "cell_type": "code",
   "execution_count": 5,
   "metadata": {},
   "outputs": [
    {
     "data": {
      "image/png": "[encoded data removed]",
      "text/plain": [
       "<Figure size 432x288 with 3 Axes>"
      ]
     },
     "metadata": {
      "needs_background": "light"
     },
     "output_type": "display_data"
    }
   ],
   "source": [
    "# %matplotlib notebook\n",
    "# Animation\n",
    "# =========\n",
    "# def ani_func(i, E=E_z):\n",
    "#     return E[:, i]\n",
    "t = np.linspace(0, 0.001, 500)\n",
    "timeline = amp.Timeline(t, units='s', fps=60)\n",
    "\n",
    "fig = plt.figure()\n",
    "block1 = amp.blocks.Line(E_z)\n",
    "block2 = amp.blocks.Line(H_y*100)\n",
    "anim = amp.Animation([block1, block2], timeline)\n",
    "\n",
    "plt.ylim([-1.25,1.25])\n",
    "# plt.tick_params(axis='both', which='both', \n",
    "#            bottom=False, top=False, left=False, right=False,\n",
    "#            labelbottom=False, labeltop=False, labelleft=False, labelright=False,\n",
    "#            labelsize=0)\n",
    "\n",
    "anim.controls({'valfmt':'%.5f'})\n",
    "#anim.timeline_slider(valfmt='%.5f')\n",
    "#anim.toggle()\n",
    "# anim.save_gif('ising')\n",
    "\n",
    "\n",
    "#ani = FuncAnimation(fig, ani_func, frames=np.linspace(0, 200, 200), blit=True)\n",
    "plt.show()"
   ]
  },
  {
   "cell_type": "code",
   "execution_count": null,
   "metadata": {},
   "outputs": [],
   "source": []
  }
 ],
 "metadata": {
  "kernelspec": {
   "display_name": "Python 3",
   "language": "python",
   "name": "python3"
  },
  "language_info": {
   "codemirror_mode": {
    "name": "ipython",
    "version": 3
   },
   "file_extension": ".py",
   "mimetype": "text/x-python",
   "name": "python",
   "nbconvert_exporter": "python",
   "pygments_lexer": "ipython3",
   "version": "3.7.2"
  }
 },
 "nbformat": 4,
 "nbformat_minor": 2
}
